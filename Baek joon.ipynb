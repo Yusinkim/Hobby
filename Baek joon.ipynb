{
 "cells": [
  {
   "cell_type": "markdown",
   "metadata": {},
   "source": [
    "# 단골 문제 (8이 몇개 있는가?)"
   ]
  },
  {
   "cell_type": "code",
   "execution_count": 1,
   "metadata": {},
   "outputs": [
    {
     "data": {
      "text/plain": [
       "4000"
      ]
     },
     "execution_count": 1,
     "metadata": {},
     "output_type": "execute_result"
    }
   ],
   "source": [
    "sum([str(i).count('8') for i in range(1,10001) if '8' in str(i)])"
   ]
  },
  {
   "cell_type": "code",
   "execution_count": null,
   "metadata": {},
   "outputs": [],
   "source": [
    "a = int(input())\n",
    "n = a//5\n",
    "if a % 5 == 0:\n",
    "    print(int(a/5))\n",
    "else:\n",
    "    for i in range(n+1):\n",
    "        if (a - (n-i) * 5) % 3 == 0:\n",
    "            print(int(n-i+(a - (n-i) * 5)/3))\n",
    "            break\n",
    "        else:\n",
    "            continue\n",
    "    if (a - (n-i) * 5) % 3 != 0:\n",
    "        print(-1)"
   ]
  },
  {
   "cell_type": "markdown",
   "metadata": {},
   "source": [
    "# input() 대신 sys.stdin.readline() 이 빠름, 주피터에서는 동작X"
   ]
  },
  {
   "cell_type": "code",
   "execution_count": null,
   "metadata": {},
   "outputs": [],
   "source": [
    "for i in range(int(sys.stdin.readline())):\n",
    "    print(sum(map(int, sys.stdin.readline().split())))"
   ]
  },
  {
   "cell_type": "markdown",
   "metadata": {},
   "source": [
    "## 1005"
   ]
  },
  {
   "cell_type": "code",
   "execution_count": null,
   "metadata": {},
   "outputs": [],
   "source": [
    "def cal(n):\n",
    "    if not n in r_l:\n",
    "        return b_t[n-1]\n",
    "    addr = []\n",
    "    e = 0\n",
    "    for i in range(r_l.count(n)):\n",
    "        e = r_l.index(n, e) + 1\n",
    "        addr.append(e - 1)\n",
    "    a = []\n",
    "    for i in range(len(addr)):\n",
    "        a.append(cal(r_f[addr[i]]) + b_t[n-1])\n",
    "    return max(a)\n",
    "\n",
    "for i in range(int(input())):\n",
    "    b_c, r_c = map(int, input().split())\n",
    "    b_t = list(map(int, input().split()))\n",
    "    r_f = [0] * r_c\n",
    "    r_l = [0] * r_c\n",
    "    for j in range(r_c):\n",
    "        r_f[j], r_l[j] = map(int, input().split())\n",
    "    target = int(input())\n",
    "    \n",
    "    print(cal(target))"
   ]
  },
  {
   "cell_type": "code",
   "execution_count": null,
   "metadata": {},
   "outputs": [],
   "source": [
    "x = int(list(input().split())[1])\n",
    "a = list(input().split())\n",
    "r = []\n",
    "for i in range(len(a)):\n",
    "    if int(a[i]) < x:\n",
    "        r.append(a[i])\n",
    "print(' '.join(r))"
   ]
  },
  {
   "cell_type": "code",
   "execution_count": null,
   "metadata": {},
   "outputs": [],
   "source": [
    "N = int(input())\n",
    "S = list(map(int, input().split()))\n",
    "\n",
    "m = max(S)\n",
    "for i in range(N):\n",
    "    S[i] = S[i]/m*100\n",
    "print(sum(S)/len(S))"
   ]
  },
  {
   "cell_type": "code",
   "execution_count": null,
   "metadata": {},
   "outputs": [],
   "source": [
    "C = int(input())\n",
    "for i in range(C):\n",
    "    S = list(map(int, input().split()))[1:]\n",
    "    a = round(len([1 for i in S if i > sum(S)/len(S)])/len(S)*100,3)\n",
    "    print('{:.3f}%'.format(a))"
   ]
  },
  {
   "cell_type": "code",
   "execution_count": null,
   "metadata": {},
   "outputs": [],
   "source": [
    "A = input()\n",
    "if len(A) == 1:\n",
    "    A = '0' + A\n",
    "a = A\n",
    "n = 0\n",
    "while 1:\n",
    "    a = list(a)\n",
    "    b = list(str(int(a[0]) + int(a[1])))\n",
    "    a = a[1] + str(b[-1])\n",
    "    n += 1\n",
    "    if a == A:\n",
    "        print(n)\n",
    "        break"
   ]
  },
  {
   "cell_type": "code",
   "execution_count": null,
   "metadata": {},
   "outputs": [],
   "source": [
    "count = 0\n",
    "for i in range(1, int(input())+1):\n",
    "    a = 1\n",
    "    s = str(i)\n",
    "    for j in range(len(s)-2):\n",
    "        if not int(s[j+1]) - int(s[j]) == int(s[j+2]) - int(s[j+1]):\n",
    "            a = 0\n",
    "            break\n",
    "    if a == 1:\n",
    "        count += 1\n",
    "print(count)"
   ]
  },
  {
   "cell_type": "code",
   "execution_count": 15,
   "metadata": {},
   "outputs": [
    {
     "name": "stdout",
     "output_type": "stream",
     "text": [
      "12\n",
      "           *            \n",
      "          * *           \n",
      "         *****          \n",
      "        *     *         \n",
      "       * *   * *        \n",
      "      ***** *****       \n",
      "     *           *      \n",
      "    * *         * *     \n",
      "   *****       *****    \n",
      "  *     *     *     *   \n",
      " * *   * *   * *   * *  \n",
      "***** ***** ***** ***** \n"
     ]
    }
   ],
   "source": [
    "import math\n",
    "\n",
    "s = ['  *   ', ' * *  ', '***** ']\n",
    "\n",
    "def star(shift):\n",
    "    l = len(s)\n",
    "    for i in range(l):\n",
    "        s.append(s[i] + s[i])\n",
    "        s[i] = ('   ' * shift + s[i] + '   ' * shift)\n",
    "\n",
    "n = int(input())\n",
    "k = int(math.log(n / 3, 2))\n",
    "\n",
    "for i in range(k):\n",
    "    star(int(pow(2, i)))\n",
    "    \n",
    "for i in range(n):\n",
    "    print(s[i])"
   ]
  },
  {
   "cell_type": "markdown",
   "metadata": {},
   "source": [
    "# 아스키코드 변환법 : ord, chr"
   ]
  },
  {
   "cell_type": "code",
   "execution_count": null,
   "metadata": {},
   "outputs": [],
   "source": [
    "a = input()\n",
    "r = ''\n",
    "for i in range(26):\n",
    "    r += str(a.find(chr(ord('a')+i)))\n",
    "    r += ' '\n",
    "print(r)"
   ]
  },
  {
   "cell_type": "markdown",
   "metadata": {},
   "source": [
    "# A[::-1] = 문자열 거꾸로 하기"
   ]
  },
  {
   "cell_type": "code",
   "execution_count": null,
   "metadata": {},
   "outputs": [],
   "source": [
    "a, b = input().split()\n",
    "print(max(int(a[::-1]), int(b[::-1])))"
   ]
  },
  {
   "cell_type": "code",
   "execution_count": null,
   "metadata": {},
   "outputs": [],
   "source": [
    "def find(n):\n",
    "    a = 1\n",
    "    s = 1\n",
    "    while n > a:\n",
    "        s += 1\n",
    "        a += s\n",
    "    if s % 2 == 0:\n",
    "        return s, s + 1 - (n - a + s)\n",
    "    else:\n",
    "        return s, n - a + s\n",
    "    \n",
    "a, b = find(int(input()))\n",
    "c = 1\n",
    "\n",
    "for i in range(b-1):\n",
    "    a -= 1\n",
    "    c += 1\n",
    "    \n",
    "print('{}/{}'.format(a, c))"
   ]
  },
  {
   "cell_type": "code",
   "execution_count": null,
   "metadata": {},
   "outputs": [],
   "source": [
    "for i in range(int(input())):\n",
    "    a, b = map(int, input().split())\n",
    "    D = b - a\n",
    "\n",
    "    n = 1\n",
    "    while 1:\n",
    "        if n % 2 == 1:\n",
    "            N = (n-1)/2\n",
    "            d = 1 + N*(N+1)\n",
    "        else:\n",
    "            N = int((n-1)/2)\n",
    "            d = 1 + N*(N+1)/2 + (N+1)*(N+2)/2\n",
    "        if D < d:\n",
    "            n -= 1\n",
    "            break\n",
    "        n += 1\n",
    "    print(n)"
   ]
  },
  {
   "cell_type": "code",
   "execution_count": null,
   "metadata": {},
   "outputs": [],
   "source": [
    "for i in range(int(input())):\n",
    "    H, W, N = map(int, input().split())\n",
    "    print('%d%02d'%((N-1)%H+1,(N-1)//H+1))"
   ]
  },
  {
   "cell_type": "code",
   "execution_count": null,
   "metadata": {},
   "outputs": [],
   "source": [
    "A = [[0 for i in range(14)] for j in range(15)]\n",
    "for k in range(14):\n",
    "    A[0][k] = k+1\n",
    "for k in range(15):\n",
    "    A[k][0] = 1\n",
    "for i in range(1,15):\n",
    "    for j in range(14):\n",
    "        A[i][j] = A[i-1][j] + A[i][j-1]\n",
    "        \n",
    "for i in range(int(input())):\n",
    "    print(A[int(input())][int(input())-1])"
   ]
  },
  {
   "cell_type": "code",
   "execution_count": null,
   "metadata": {},
   "outputs": [],
   "source": [
    "def D(a, b):\n",
    "    mod = a%b\n",
    "    while mod > 0:\n",
    "        a = b\n",
    "        b = mod\n",
    "        mod = a%b\n",
    "    return b\n",
    "\n",
    "for i in range(int(input())):\n",
    "    M, N, X, Y = map(int, input().split())\n",
    "    Max = M*N/D(M,N)\n",
    "    m = min(X,Y)\n",
    "    x = m\n",
    "    y = m\n",
    "    n = m\n",
    "    if m == X:\n",
    "        add = M\n",
    "    else:\n",
    "        add = N\n",
    "\n",
    "    while 1:\n",
    "        if X!=x or Y!=y:\n",
    "            x += add\n",
    "            x = (x-1)%M + 1\n",
    "            y += add\n",
    "            y = (y-1)%N + 1\n",
    "            n += add\n",
    "        else:\n",
    "            break\n",
    "\n",
    "        if n > Max:\n",
    "            n = -1\n",
    "            break\n",
    "\n",
    "    print(n)"
   ]
  },
  {
   "cell_type": "code",
   "execution_count": null,
   "metadata": {},
   "outputs": [],
   "source": [
    "for i in range(int(input())):\n",
    "    M, N, X, Y = map(int, input().split())\n",
    "    Max = M*N\n",
    "    add = max(M, N)\n",
    "    if add == M:\n",
    "        x = (X-1)%M + 1\n",
    "        y = (X-1)%N + 1\n",
    "        n = X\n",
    "    else:\n",
    "        x = (Y-1)%M + 1\n",
    "        y = (Y-1)%N + 1\n",
    "        n = Y\n",
    "\n",
    "    if add == M:\n",
    "        while 1:\n",
    "            if X!=x or Y!=y:\n",
    "                y += add\n",
    "                y = (y-1)%N + 1\n",
    "                n += add\n",
    "            else:\n",
    "                break\n",
    "\n",
    "            if n > Max:\n",
    "                n = -1\n",
    "                break\n",
    "    else:\n",
    "        while 1:\n",
    "            if X!=x or Y!=y:\n",
    "                x += add\n",
    "                x = (x-1)%M + 1\n",
    "                n += add\n",
    "            else:\n",
    "                break\n",
    "\n",
    "            if n > Max:\n",
    "                n = -1\n",
    "                break\n",
    "    print(n)"
   ]
  },
  {
   "cell_type": "code",
   "execution_count": null,
   "metadata": {},
   "outputs": [],
   "source": [
    "T = int(input())\n",
    "for _ in range(T):\n",
    "    M, N, x, y = map(int, input().split())\n",
    "    last =  M*N\n",
    "    while x <= last:\n",
    "        if (x - y)%N == 0:\n",
    "            print(x)\n",
    "            break\n",
    "        x += M\n",
    "    else:\n",
    "        print(-1)"
   ]
  },
  {
   "cell_type": "code",
   "execution_count": null,
   "metadata": {},
   "outputs": [],
   "source": [
    "T = int(input())\n",
    "a = [int(input()) for i in range(T)]\n",
    "a.sort()\n",
    "for i in range(T):\n",
    "    print(a[i])"
   ]
  },
  {
   "cell_type": "code",
   "execution_count": 81,
   "metadata": {},
   "outputs": [
    {
     "data": {
      "text/plain": [
       "2.0"
      ]
     },
     "execution_count": 81,
     "metadata": {},
     "output_type": "execute_result"
    }
   ],
   "source": [
    "import math\n",
    "math.log(4,2)"
   ]
  },
  {
   "cell_type": "markdown",
   "metadata": {},
   "source": [
    "# 카운팅 정렬"
   ]
  },
  {
   "cell_type": "code",
   "execution_count": null,
   "metadata": {},
   "outputs": [],
   "source": [
    "import sys\n",
    "count =[0]*10001\n",
    "\n",
    "N = int(sys.stdin.readline())\n",
    "\n",
    "for i in range(0, N): \n",
    "    count[int(sys.stdin.readline())] += 1 \n",
    "    \n",
    "for i in range(1, 10001):\n",
    "    for j in range(count[i]):\n",
    "        print(i)"
   ]
  },
  {
   "cell_type": "code",
   "execution_count": null,
   "metadata": {},
   "outputs": [],
   "source": [
    "import sys\n",
    "\n",
    "N = int(sys.stdin.readline())\n",
    "A = [0] * N\n",
    "count = [0] * 8001\n",
    "for i in range(N):\n",
    "    n = int(sys.stdin.readline())\n",
    "    A[i] = n\n",
    "    count[n+4000] += 1\n",
    "\n",
    "A.sort()\n",
    "\n",
    "print(round(sum(A)/len(A)))\n",
    "print(A[len(A)//2])\n",
    "\n",
    "if count.count(max(count)) == 1:\n",
    "    print(count.index(max(count))-4000)\n",
    "else:\n",
    "    count[count.index(max(count))] -= 1\n",
    "    print(count.index(max(count))-4000)\n",
    "    \n",
    "print(max(A)-min(A))"
   ]
  },
  {
   "cell_type": "code",
   "execution_count": null,
   "metadata": {},
   "outputs": [],
   "source": [
    "A = list(input())\n",
    "A.sort()\n",
    "A.reverse()\n",
    "print(''.join(A))"
   ]
  },
  {
   "cell_type": "code",
   "execution_count": null,
   "metadata": {},
   "outputs": [],
   "source": [
    "N = int(input())\n",
    "A = [[] for i in range(51)]\n",
    "for i in range(N):\n",
    "    n = input()\n",
    "    A[len(n)].append(n)\n",
    "    \n",
    "for i in range(1,51):\n",
    "    A[i] = list(set(A[i]))\n",
    "    A[i].sort()\n",
    "    for k in (A[i]):\n",
    "        print(k)"
   ]
  },
  {
   "cell_type": "code",
   "execution_count": null,
   "metadata": {},
   "outputs": [],
   "source": [
    "count_n = 0\n",
    "int(input())\n",
    "\n",
    "n = list(map(int, input().split()))\n",
    "for i in n:\n",
    "    count = 0\n",
    "    for k in range(1,i+1):\n",
    "        if i % k == 0:\n",
    "            count += 1\n",
    "    if count == 2:\n",
    "        count_n += 1\n",
    "print(count_n)"
   ]
  },
  {
   "cell_type": "markdown",
   "metadata": {},
   "source": [
    "# 소수 구하기"
   ]
  },
  {
   "cell_type": "code",
   "execution_count": null,
   "metadata": {},
   "outputs": [],
   "source": [
    "N = int(input())\n",
    "M = int(input())\n",
    "\n",
    "if N == 1:\n",
    "    N += 1\n",
    "s = 0\n",
    "f = 0\n",
    "for i in range(N, M+1):\n",
    "    count = 0\n",
    "    for k in range(2,i):\n",
    "        if i % k == 0:\n",
    "            count = -1\n",
    "            break\n",
    "    if count == 0:\n",
    "        s += i\n",
    "        if f == 0:\n",
    "            f = i\n",
    "if s == 0:\n",
    "    print(-1)\n",
    "else:\n",
    "    print(s)\n",
    "    print(f)"
   ]
  },
  {
   "cell_type": "code",
   "execution_count": null,
   "metadata": {},
   "outputs": [],
   "source": [
    "M, N = map(int, input().split())\n",
    "s = [1] * (N+1)\n",
    "\n",
    "m = int(N ** 0.5)\n",
    "for i in range(2, m + 1):\n",
    "    if s[i] == 1:\n",
    "        for j in range(i+i, (N+1), i):\n",
    "            s[j] = 0\n",
    "\n",
    "for i in range(max(M,2), N+1):\n",
    "    if s[i] == 1:\n",
    "        print(i)"
   ]
  },
  {
   "cell_type": "code",
   "execution_count": null,
   "metadata": {},
   "outputs": [],
   "source": [
    "while 1:\n",
    "    M = int(input())\n",
    "    if M == 0:\n",
    "        break\n",
    "    N = M+M\n",
    "    s = [1] * (N+1)\n",
    "\n",
    "    m = int(N ** 0.5)\n",
    "    for i in range(2, m + 1):\n",
    "        if s[i] == 1:\n",
    "            for j in range(i+i, (N+1), i):\n",
    "                s[j] = 0\n",
    "\n",
    "    A = [i for i in range(max(M+1,2), N+1) if s[i] == 1]\n",
    "    print(len(A))"
   ]
  },
  {
   "cell_type": "code",
   "execution_count": null,
   "metadata": {},
   "outputs": [],
   "source": [
    "s = [1] * (9998)\n",
    "\n",
    "m = int(9998 ** 0.5)\n",
    "for i in range(2, m + 1):\n",
    "    if s[i] == 1:\n",
    "        for j in range(i+i, 9998, i):\n",
    "            s[j] = 0\n",
    "\n",
    "A = [i for i in range(2, 9998) if s[i] == 1]\n",
    "\n",
    "for i in range(int(input())):\n",
    "    n = int(input())\n",
    "    a = n//2\n",
    "    b = a\n",
    "    while 1:\n",
    "        if a in A and b in A:\n",
    "            print(a,b)\n",
    "            break\n",
    "        else:\n",
    "            a -= 1\n",
    "            b += 1"
   ]
  },
  {
   "cell_type": "markdown",
   "metadata": {},
   "source": [
    "# 스택"
   ]
  },
  {
   "cell_type": "code",
   "execution_count": null,
   "metadata": {},
   "outputs": [],
   "source": [
    "stack = []\n",
    "for i in range(int(input())):\n",
    "    C = input()\n",
    "    if 'push' in C:\n",
    "        stack.append(C[5:])\n",
    "    elif C == 'pop':\n",
    "        try:\n",
    "            print(stack.pop())\n",
    "        except:\n",
    "            print(-1)\n",
    "    elif C == 'size':\n",
    "        print(len(stack))\n",
    "    elif C == 'empty':\n",
    "        print(int(len(stack)==0))\n",
    "    elif C == 'top':\n",
    "        try:\n",
    "            print(stack[-1])\n",
    "        except:\n",
    "            print(-1)"
   ]
  },
  {
   "cell_type": "code",
   "execution_count": null,
   "metadata": {},
   "outputs": [],
   "source": [
    "stack = []\n",
    "result = []\n",
    "n = 1\n",
    "\n",
    "N = int(input())\n",
    "p = [int(input()) for i in range(N)]\n",
    "No = 0\n",
    "for i in range(N):\n",
    "    if n <= p[i]:\n",
    "        for j in range(p[i]-n+1):\n",
    "            stack.append(n)\n",
    "            n += 1\n",
    "            result.append('+')\n",
    "        stack.pop()\n",
    "        result.append('-')\n",
    "    else:\n",
    "        if stack[-1] != p[i]:\n",
    "            No = 1\n",
    "            break\n",
    "        else:\n",
    "            stack.pop()\n",
    "            result.append('-')\n",
    "    if No == 1:\n",
    "        break\n",
    "        \n",
    "if No == 1:\n",
    "    print('NO')\n",
    "else:\n",
    "    for i in range(len(result)):\n",
    "        print(result[i])"
   ]
  },
  {
   "cell_type": "code",
   "execution_count": null,
   "metadata": {},
   "outputs": [],
   "source": [
    "for i in range(int(input())):\n",
    "    s = input()\n",
    "    br = 0\n",
    "    count = 0\n",
    "    for j in range(len(s)):\n",
    "        if s[j] == '(':\n",
    "            count += 1\n",
    "        else:\n",
    "            count -= 1\n",
    "        if count < 0:\n",
    "            br = 1\n",
    "            break\n",
    "    if count != 0:\n",
    "        br = 1\n",
    "    if br == 0:\n",
    "        print('YES')\n",
    "    else:\n",
    "        print('NO')"
   ]
  },
  {
   "cell_type": "code",
   "execution_count": 70,
   "metadata": {},
   "outputs": [
    {
     "name": "stdout",
     "output_type": "stream",
     "text": [
      "()[]\n",
      "5\n"
     ]
    }
   ],
   "source": [
    "s = input()\n",
    "br = 0\n",
    "stack = []\n",
    "temp = 1\n",
    "result = 0\n",
    "for i in range(len(s)):\n",
    "    if s[i] == '(':\n",
    "        stack.append('(')\n",
    "        temp *= 2\n",
    "    elif s[i] == '[':\n",
    "        stack.append('[')\n",
    "        temp *= 3\n",
    "    elif s[i] == ')':\n",
    "        if not stack or stack[-1] != '(':\n",
    "            br = 1\n",
    "            break\n",
    "        else:\n",
    "            if s[i-1] == '(':\n",
    "                result += temp\n",
    "            stack.pop()\n",
    "            temp //= 2\n",
    "    elif s[i] == ']':\n",
    "        if not stack or stack[-1] != '[':\n",
    "            br = 1\n",
    "            break\n",
    "        else:\n",
    "            if s[i-1] == '[':\n",
    "                result += temp\n",
    "            stack.pop()\n",
    "            temp //= 3\n",
    "            \n",
    "if stack or br:\n",
    "    print(0)\n",
    "else:\n",
    "    print(result)"
   ]
  },
  {
   "cell_type": "code",
   "execution_count": 79,
   "metadata": {},
   "outputs": [
    {
     "name": "stdout",
     "output_type": "stream",
     "text": [
      "(([()][]))([])\n",
      "(([+2][]))([])\n",
      "(([+2]+3))(+3)\n",
      "+(+([+2]+3))+(+3)\n",
      "+(+([+2]+3)*2)*2+(+3)*2\n",
      "+(+([+2)*3+3)*2)*2+(+3)*2\n",
      "+(+(+(+2)*3+3)*2)*2+(+3)*2\n",
      "42\n"
     ]
    }
   ],
   "source": [
    "x = input()\n",
    "\n",
    "if x.count('[') != x.count(']') or x.count('(') != x.count(')'):\n",
    "    print(0)\n",
    "else:\n",
    "    x = x.replace('()', '+2')\n",
    "    x = x.replace('[]', '+3')\n",
    "    x = x.replace('(', '+(')\n",
    "    x = x.replace(')', ')*2')\n",
    "    x = x.replace(']', ')*3')\n",
    "    x = x.replace('[', '+(')\n",
    "\n",
    "    try:\n",
    "        print(eval(x))\n",
    "    except (SyntaxError, TypeError):\n",
    "        print(0)"
   ]
  },
  {
   "cell_type": "markdown",
   "metadata": {},
   "source": [
    "# 큐"
   ]
  },
  {
   "cell_type": "code",
   "execution_count": null,
   "metadata": {},
   "outputs": [],
   "source": [
    "queue = []\n",
    "for i in range(int(input())):\n",
    "    C = input()\n",
    "    if 'push' in C:\n",
    "        queue.append(C[5:])\n",
    "    elif C == 'pop':\n",
    "        try:\n",
    "            print(queue.pop(0))\n",
    "        except:\n",
    "            print(-1)\n",
    "    elif C == 'size':\n",
    "        print(len(queue))\n",
    "    elif C == 'empty':\n",
    "        print(int(len(queue)==0))\n",
    "    elif C == 'front':\n",
    "        try:\n",
    "            print(queue[0])\n",
    "        except:\n",
    "            print(-1)\n",
    "    elif C == 'back':\n",
    "        try:\n",
    "            print(queue[-1])\n",
    "        except:\n",
    "            print(-1)\n",
    "    else:\n",
    "        print('?')\n",
    "        break"
   ]
  },
  {
   "cell_type": "markdown",
   "metadata": {},
   "source": [
    "## DFS(깊이 우선 탐색), BPS(너비 우선 탐색)"
   ]
  },
  {
   "cell_type": "code",
   "execution_count": 41,
   "metadata": {},
   "outputs": [
    {
     "name": "stdout",
     "output_type": "stream",
     "text": [
      "9 9 3\n",
      "3 7\n",
      "3 1\n",
      "1 4\n",
      "4 5\n",
      "5 9\n",
      "4 6\n",
      "6 2\n",
      "2 3\n",
      "2 8\n",
      "314596287\n",
      "312746859\n"
     ]
    }
   ],
   "source": [
    "import copy\n",
    "\n",
    "N, M, V = map(int, input().split())\n",
    "\n",
    "L = {i:[] for i in range(1,N+1)}\n",
    "check = []\n",
    "\n",
    "for i in range(M):\n",
    "    s, t = map(int, input().split())\n",
    "    L[s] += [t]\n",
    "    L[t] += [s]\n",
    "    if s not in check:\n",
    "        check.append(s)\n",
    "    if t not in check:\n",
    "        check.append(t)\n",
    "        \n",
    "for i in range(1,N+1):\n",
    "    L[i].sort()\n",
    "\n",
    "for i in range(1,N+1):\n",
    "    try:\n",
    "        L[i].remove(V)\n",
    "    except:\n",
    "        pass\n",
    "    \n",
    "L2 = copy.deepcopy(L)\n",
    "    \n",
    "DFS = [V]\n",
    "while len(DFS) < len(check):\n",
    "    i = 0\n",
    "    while 1:\n",
    "        v = DFS[-1-i]\n",
    "        if len(L[v]) == 0:\n",
    "            i += 1\n",
    "            continue\n",
    "        if L[v][0] in DFS:\n",
    "            i += 1\n",
    "            continue\n",
    "        break\n",
    "    for i in range(len(L[v])):\n",
    "        d = L[v][i]\n",
    "        if d not in DFS:\n",
    "            DFS.append(d)\n",
    "            for k in range(1,N+1):\n",
    "                try:\n",
    "                    L[k].remove(d)\n",
    "                except:\n",
    "                    pass\n",
    "            break\n",
    "dfs = ''\n",
    "for i in DFS:\n",
    "    dfs += str(i)\n",
    "    dfs += ' '\n",
    "print(dfs)\n",
    "\n",
    "BFS = [V]\n",
    "v_list = [V]\n",
    "while len(BFS) < len(check):\n",
    "    append_list = []\n",
    "    for v in v_list:\n",
    "        for i in range(len(L2[v])):\n",
    "            d = L2[v][i]\n",
    "            if d not in BFS:\n",
    "                append_list.append(d)\n",
    "    for k in range(1,N+1):\n",
    "        for i in append_list:\n",
    "            try:\n",
    "                L2[k].remove(i)\n",
    "            except:\n",
    "                pass\n",
    "    append_list = list(set(append_list))\n",
    "    append_list.sort()\n",
    "    BFS.extend(append_list)\n",
    "    v_list = append_list\n",
    "\n",
    "bfs = ''\n",
    "for i in BFS:\n",
    "    bfs += str(i)\n",
    "    bfs += ' '\n",
    "print(bfs)"
   ]
  },
  {
   "cell_type": "code",
   "execution_count": 37,
   "metadata": {},
   "outputs": [
    {
     "name": "stdout",
     "output_type": "stream",
     "text": [
      "9 9 3\n",
      "3 7\n",
      "3 1\n",
      "3 2\n",
      "1 4\n",
      "4 5\n",
      "5 9\n",
      "4 6\n",
      "6 2\n",
      "2 8\n",
      "3 1 4 5 9 6 2 8 7\n",
      "3 1 2 7 4 6 8 5 9\n"
     ]
    }
   ],
   "source": [
    "N, M, V = map(int, input().split())\n",
    "matrix = [[0] * (N + 1) for _ in range(N + 1)]\n",
    "for _ in range(M):\n",
    "    link = list(map(int, input().split()))\n",
    "    matrix[link[0]][link[1]] = 1\n",
    "    matrix[link[1]][link[0]] = 1\n",
    "\n",
    "\n",
    "def dfs(current_node, row, foot_prints):\n",
    "    foot_prints += [current_node]\n",
    "    for search_node in range(len(row[current_node])):\n",
    "        if row[current_node][search_node] and search_node not in foot_prints:\n",
    "            foot_prints = dfs(search_node, row, foot_prints)\n",
    "    return foot_prints\n",
    "\n",
    "\n",
    "def bfs(start):\n",
    "    queue = [start]\n",
    "    foot_prints = [start]\n",
    "    while queue:\n",
    "        current_node = queue.pop(0)\n",
    "        for search_node in range(len(matrix[current_node])):\n",
    "            if matrix[current_node][search_node] and search_node not in foot_prints:\n",
    "                foot_prints += [search_node]\n",
    "                queue += [search_node]\n",
    "    return foot_prints\n",
    "\n",
    "\n",
    "print(*dfs(V, matrix, []))\n",
    "print(*bfs(V))"
   ]
  },
  {
   "cell_type": "code",
   "execution_count": 25,
   "metadata": {},
   "outputs": [
    {
     "name": "stdout",
     "output_type": "stream",
     "text": [
      "3\n",
      "***\n",
      "* *\n",
      "***\n"
     ]
    }
   ],
   "source": [
    "import math\n",
    "\n",
    "def star(st):\n",
    "    new_st = []\n",
    "    for s in st:\n",
    "        new_st.append(s*3)\n",
    "    l = len(new_st[0])//3\n",
    "    for i in range(len(new_st)):\n",
    "        new_st.append(new_st[i][0:l] + ' '*l + new_st[i][0:l])\n",
    "    new_st += new_st[0:l]\n",
    "    \n",
    "    return new_st\n",
    "\n",
    "st = ['*']\n",
    "for i in range(round(math.log(int(input()),3))):\n",
    "    st = star(st)\n",
    "    \n",
    "for s in st:\n",
    "    print(s)"
   ]
  },
  {
   "cell_type": "markdown",
   "metadata": {},
   "source": [
    "# Network"
   ]
  },
  {
   "cell_type": "markdown",
   "metadata": {},
   "source": [
    "## 2211"
   ]
  },
  {
   "cell_type": "code",
   "execution_count": 1,
   "metadata": {},
   "outputs": [
    {
     "data": {
      "text/plain": [
       "[[1, 2], [2, 1], [3, 2]]"
      ]
     },
     "execution_count": 1,
     "metadata": {},
     "output_type": "execute_result"
    }
   ],
   "source": [
    "a = [[1,2],[3,2],[2,1]]\n",
    "a.sort()\n",
    "a"
   ]
  },
  {
   "cell_type": "code",
   "execution_count": null,
   "metadata": {},
   "outputs": [],
   "source": [
    "N, M = map(int, input().split())\n",
    "time = [None] * (N-1)\n",
    "L = []\n",
    "\n",
    "for _ in range(M):\n",
    "    L.append(list(map(int, input().split())))\n",
    "    "
   ]
  },
  {
   "cell_type": "markdown",
   "metadata": {},
   "source": [
    "## 3780"
   ]
  },
  {
   "cell_type": "code",
   "execution_count": 13,
   "metadata": {},
   "outputs": [
    {
     "name": "stdout",
     "output_type": "stream",
     "text": [
      "1\n",
      "4\n",
      "I 3 1\n",
      "E 3\n",
      "2\n",
      "O\n"
     ]
    }
   ],
   "source": [
    "for _ in range(int(input())):\n",
    "    N = int(input())\n",
    "    dist = 0\n",
    "    while True:\n",
    "        cmd = input().split()\n",
    "        if cmd[0] == 'O':\n",
    "            break\n",
    "        elif cmd[0] == 'E':\n",
    "            print(dist)\n",
    "        elif cmd[0] == 'I':\n",
    "            dist += abs(int(cmd[1])-int(cmd[2]))%1000"
   ]
  },
  {
   "cell_type": "markdown",
   "metadata": {},
   "source": [
    "## 2215"
   ]
  },
  {
   "cell_type": "code",
   "execution_count": 11,
   "metadata": {},
   "outputs": [
    {
     "name": "stdout",
     "output_type": "stream",
     "text": [
      "6 3\n",
      "1 3\n",
      "2 5\n",
      "3 4\n",
      "4\n"
     ]
    }
   ],
   "source": [
    "N, P = map(int, input().split())\n",
    "light = [[0] * N]\n",
    "same = []\n",
    "\n",
    "for _ in range(P):\n",
    "    pq = list(map(int, input().split()))\n",
    "    p = min(pq)-1\n",
    "    q = max(pq)-1\n",
    "    if q-p < round(N/2,2):\n",
    "        light[0][p:q] = [1] * (q-p)\n",
    "    elif q-p > round(N/2,2):\n",
    "        light[0][:p] = [1] * (p)\n",
    "        light[0][q:] = [1] * (N-q)\n",
    "    else:\n",
    "        if not [p,q] in same:\n",
    "            same.append([p,q])\n",
    "\n",
    "for p,q in same:\n",
    "    for i in range(len(light)):\n",
    "        add = light[i][:]\n",
    "        add[:p] = [1] * (p)\n",
    "        add[q:] = [1] * (N-q)\n",
    "        light.append(add)\n",
    "        light[i][p:q] = [1] * (q-p)\n",
    "\n",
    "print(min(map(sum, light)))"
   ]
  },
  {
   "cell_type": "markdown",
   "metadata": {},
   "source": [
    "# 1931 (Greedy Algorithm)"
   ]
  },
  {
   "cell_type": "code",
   "execution_count": 48,
   "metadata": {},
   "outputs": [
    {
     "name": "stdout",
     "output_type": "stream",
     "text": [
      "4\n",
      "0 0\n",
      "0 0\n",
      "1 2\n",
      "1 2\n",
      "3\n"
     ]
    }
   ],
   "source": [
    "time = []\n",
    "for _ in range(int(input())):\n",
    "    t = list(map(int, input().split()))\n",
    "    if t in time and t[0] != t[1]:\n",
    "        continue\n",
    "    time.append(t)\n",
    "\n",
    "def rev(A):\n",
    "    rA = A[:]\n",
    "    rA.reverse()\n",
    "    return rA\n",
    "\n",
    "time = list(map(rev, time))\n",
    "time.sort()                    # 끝나는 시간순으로 정렬 후 시작 순으로 정렬\n",
    "time = list(map(rev, time))\n",
    "\n",
    "start = [i[0] for i in time]\n",
    "finish = [i[1] for i in time]\n",
    "\n",
    "count = 0\n",
    "while True:\n",
    "    try:\n",
    "        finish_time = min(finish)\n",
    "        idx = finish.index(finish_time)\n",
    "        del start[idx]\n",
    "        del finish[idx]\n",
    "        for i in [s for s in start if s < finish_time]:\n",
    "            del finish[start.index(i)]\n",
    "            start.remove(i)\n",
    "        count += 1\n",
    "    except:\n",
    "        break\n",
    "        \n",
    "print(count)"
   ]
  },
  {
   "cell_type": "code",
   "execution_count": 17,
   "metadata": {},
   "outputs": [
    {
     "name": "stdout",
     "output_type": "stream",
     "text": [
      "10\n",
      "1 4\n",
      "4 7\n",
      "7 10\n",
      "10 13\n",
      "2 5\n",
      "5 8\n",
      "8 11\n",
      "11 12\n",
      "12 19\n",
      "11 11\n",
      "[[1, 4], [4, 7], [7, 10], [11, 11], [11, 12], [12, 19]]\n"
     ]
    }
   ],
   "source": [
    "time = []\n",
    "for _ in range(int(input())):\n",
    "    time.append(list(map(int, input().split())))\n",
    "\n",
    "result = []\n",
    "while time:\n",
    "    # 빨리 끝나는 것 찾기\n",
    "    min_f = 24\n",
    "    for t in time:\n",
    "        if t[1] < min_f:\n",
    "            min_f = t[1]\n",
    "    \n",
    "    # 종료 시간 같은거 모으기\n",
    "    m_list = []\n",
    "    for t in time:\n",
    "        if t[1] == min_f:\n",
    "            m_list.append(t)\n",
    "            \n",
    "    # 시작 시간 빠른거 찾기 위한 정렬\n",
    "    m_list.sort()\n",
    "    \n",
    "    # 시작 시간 가장 빠른거 답에 추가 후 time에서 제거\n",
    "    result.append(m_list[0])\n",
    "    time.remove(m_list[0])\n",
    "    \n",
    "    # 시작 시간과 종료 시간이 같은 회의는 답에 추가 후 time에서 제거\n",
    "    for m in m_list[1:]:\n",
    "        if m[0] == m[1]:\n",
    "            result.append(m)\n",
    "        time.remove(m)\n",
    "    \n",
    "    # 종료 시간보다 시작 시간이 빠른 것들을 time에서 제거\n",
    "    for t in time:\n",
    "        if t[0] < min_f:\n",
    "            time.remove(t)\n",
    "        \n",
    "print(result)"
   ]
  },
  {
   "cell_type": "code",
   "execution_count": 90,
   "metadata": {},
   "outputs": [
    {
     "name": "stdout",
     "output_type": "stream",
     "text": [
      "3\n",
      "7\n",
      "1 3\n",
      "1 2\n",
      "3 2\n",
      "1 3\n",
      "2 1\n",
      "2 3\n",
      "1 3\n"
     ]
    }
   ],
   "source": [
    "def hanoi(n, from_pos, to_pos, aux_pos):\n",
    "    if n == 1:\n",
    "        print(from_pos, to_pos)\n",
    "        return\n",
    "    hanoi(n - 1, from_pos, aux_pos, to_pos)\n",
    "    print(from_pos, to_pos)\n",
    "    hanoi(n - 1, aux_pos, to_pos, from_pos)\n",
    "n = int(input())\n",
    "print(2 ** n - 1)\n",
    "hanoi(n, 1, 3, 2)"
   ]
  },
  {
   "cell_type": "code",
   "execution_count": 95,
   "metadata": {},
   "outputs": [
    {
     "name": "stdout",
     "output_type": "stream",
     "text": [
      "10\n"
     ]
    },
    {
     "data": {
      "text/plain": [
       "55"
      ]
     },
     "execution_count": 95,
     "metadata": {},
     "output_type": "execute_result"
    }
   ],
   "source": [
    "def fibo(n):\n",
    "    if n <= 1:\n",
    "        return n\n",
    "    return fibo(n-2) + fibo(n-1)\n",
    "ans = fibo(int(input()))\n",
    "print(ans)"
   ]
  },
  {
   "cell_type": "code",
   "execution_count": 27,
   "metadata": {},
   "outputs": [
    {
     "data": {
      "text/plain": [
       "[-1, -1, -1, -1, 4]"
      ]
     },
     "execution_count": 27,
     "metadata": {},
     "output_type": "execute_result"
    }
   ],
   "source": [
    "[i if i > 3 else -1 for i in range(5)]"
   ]
  },
  {
   "cell_type": "code",
   "execution_count": 30,
   "metadata": {},
   "outputs": [
    {
     "name": "stdout",
     "output_type": "stream",
     "text": [
      "10 500\n",
      "93 181 245 214 315 36 185 138 216 295\n",
      "497\n"
     ]
    }
   ],
   "source": [
    "from itertools import combinations\n",
    "\n",
    "N, M = map(int, input().split())\n",
    "num_list = list(map(int, input().split()))\n",
    "\n",
    "comb_list = list(combinations(num_list, 3))\n",
    "sum_list = [sum(comb_list[i]) for i in range(len(comb_list))]\n",
    "diff_list = [M - sum_list[i] if (M - sum_list[i]) >= 0 else M for i in range(len(comb_list))]\n",
    "idx = diff_list.index(min(diff_list))\n",
    "\n",
    "print(sum_list[idx])"
   ]
  },
  {
   "cell_type": "code",
   "execution_count": null,
   "metadata": {},
   "outputs": [],
   "source": []
  }
 ],
 "metadata": {
  "kernelspec": {
   "display_name": "Python 3",
   "language": "python",
   "name": "python3"
  },
  "language_info": {
   "codemirror_mode": {
    "name": "ipython",
    "version": 3
   },
   "file_extension": ".py",
   "mimetype": "text/x-python",
   "name": "python",
   "nbconvert_exporter": "python",
   "pygments_lexer": "ipython3",
   "version": "3.7.3"
  }
 },
 "nbformat": 4,
 "nbformat_minor": 2
}
