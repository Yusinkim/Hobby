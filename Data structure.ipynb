{
 "cells": [
  {
   "cell_type": "code",
   "execution_count": 21,
   "metadata": {},
   "outputs": [
    {
     "name": "stdout",
     "output_type": "stream",
     "text": [
      "x1 140719094731584\n",
      "x2 2151679507592\n",
      "a 140719094731616\n",
      "b 2151679507592\n"
     ]
    }
   ],
   "source": [
    "def a(x):         # 값이 입력으로 들어가면 값만 줘서 call by value\n",
    "    x += 1\n",
    "    print('a',id(x))\n",
    "def b(x):         # 집합이 입력으로 들어가면 reference를 줘서 call by reference\n",
    "    x[0] += 1\n",
    "    print('b',id(x))\n",
    "\n",
    "def A():\n",
    "    x1 = 1\n",
    "    print('x1',id(x1))\n",
    "    x2 = [1]\n",
    "    print('x2',id(x2))\n",
    "    a(x1)\n",
    "    b(x2)\n",
    "A()"
   ]
  },
  {
   "cell_type": "code",
   "execution_count": 43,
   "metadata": {},
   "outputs": [
    {
     "name": "stdout",
     "output_type": "stream",
     "text": [
      "3102045408456\n",
      "140703987110720\n",
      "140703987110752\n",
      "140703987110784\n"
     ]
    }
   ],
   "source": [
    "A = [1,2,3]\n",
    "print(id(A))\n",
    "print(id(A[0]))\n",
    "print(id(A[1]))\n",
    "print(id(A[2]))"
   ]
  },
  {
   "cell_type": "code",
   "execution_count": 50,
   "metadata": {},
   "outputs": [
    {
     "name": "stdout",
     "output_type": "stream",
     "text": [
      "3102065738896\n",
      "3102048158872\n",
      "3102048158872\n",
      "3102048158872\n"
     ]
    }
   ],
   "source": [
    "import numpy as np\n",
    "B = np.array([1,2,3])\n",
    "print(id(B))\n",
    "print(id(B[0]))\n",
    "print(id(B[1]))\n",
    "print(id(B[2]))"
   ]
  },
  {
   "cell_type": "code",
   "execution_count": 47,
   "metadata": {},
   "outputs": [
    {
     "name": "stdout",
     "output_type": "stream",
     "text": [
      "a = 3 , b = 7\n",
      "a = 3 , b = 5\n"
     ]
    }
   ],
   "source": [
    "def init(a, b=5):     # 초기값(keyward args)이 주어진 변수는 입력이 없다면 초기값, 있다면 입력값\n",
    "    print('a =',a,', b =',b)\n",
    "init(3,7)\n",
    "init(3)"
   ]
  },
  {
   "cell_type": "code",
   "execution_count": 30,
   "metadata": {},
   "outputs": [
    {
     "name": "stdout",
     "output_type": "stream",
     "text": [
      "('Oh', 'This', 'is', 'amiazing')\n",
      "{'Human': 2, 'Dog': 4}\n"
     ]
    }
   ],
   "source": [
    "def save_s(*args, **kargs):    # *를 통해 입력값 수 관계없이 가능 (* = Tuple, ** = Dictionary)\n",
    "    print(args)\n",
    "    print(kargs)\n",
    "save_s('Oh','This','is','amiazing',Human=2,Dog=4)"
   ]
  },
  {
   "cell_type": "code",
   "execution_count": 39,
   "metadata": {},
   "outputs": [
    {
     "name": "stdout",
     "output_type": "stream",
     "text": [
      "run by itself\n"
     ]
    }
   ],
   "source": [
    "if __name__ == '__main__':\n",
    "    print('run by itself')\n",
    "else:\n",
    "    print('imported from another module')"
   ]
  },
  {
   "cell_type": "code",
   "execution_count": 60,
   "metadata": {},
   "outputs": [
    {
     "data": {
      "text/plain": [
       "['Apple', 'apple', 'banana', 'grapes']"
      ]
     },
     "execution_count": 60,
     "metadata": {},
     "output_type": "execute_result"
    }
   ],
   "source": [
    "l = ['apple','Apple','grapes','banana']\n",
    "l.sort()\n",
    "l"
   ]
  },
  {
   "cell_type": "code",
   "execution_count": 65,
   "metadata": {},
   "outputs": [
    {
     "data": {
      "text/plain": [
       "[1, 2, 3, 4]"
      ]
     },
     "execution_count": 65,
     "metadata": {},
     "output_type": "execute_result"
    }
   ],
   "source": [
    "l = [1,2,4]\n",
    "l.insert(2,3)  # l[2] 에 3 넣기\n",
    "l"
   ]
  },
  {
   "cell_type": "code",
   "execution_count": 61,
   "metadata": {},
   "outputs": [
    {
     "name": "stdout",
     "output_type": "stream",
     "text": [
      "Apple\n",
      "['banana', 'grapes']\n"
     ]
    }
   ],
   "source": [
    "r = l[0]\n",
    "del l[0]\n",
    "print(r)\n",
    "\n",
    "r = l\n",
    "del l[0]\n",
    "print(r)"
   ]
  },
  {
   "cell_type": "code",
   "execution_count": 70,
   "metadata": {},
   "outputs": [
    {
     "data": {
      "text/plain": [
       "(1, 2, 3)"
      ]
     },
     "execution_count": 70,
     "metadata": {},
     "output_type": "execute_result"
    }
   ],
   "source": [
    "a = 1,2,3   # tuple\n",
    "a"
   ]
  },
  {
   "cell_type": "code",
   "execution_count": 80,
   "metadata": {},
   "outputs": [
    {
     "data": {
      "text/plain": [
       "[2]"
      ]
     },
     "execution_count": 80,
     "metadata": {},
     "output_type": "execute_result"
    }
   ],
   "source": [
    "a = [1,2,3]\n",
    "a[1:-1]"
   ]
  },
  {
   "cell_type": "code",
   "execution_count": 9,
   "metadata": {},
   "outputs": [
    {
     "name": "stdout",
     "output_type": "stream",
     "text": [
      "2794325898760\n",
      "2794325986248\n"
     ]
    }
   ],
   "source": [
    "A = [1,2,3]\n",
    "B = A[:]       # deepcopy\n",
    "print(id(A))\n",
    "print(id(B))"
   ]
  },
  {
   "cell_type": "markdown",
   "metadata": {},
   "source": [
    "## 함수 선언할 때 변수 미리 지정 가능"
   ]
  },
  {
   "cell_type": "code",
   "execution_count": 2,
   "metadata": {},
   "outputs": [
    {
     "name": "stdout",
     "output_type": "stream",
     "text": [
      "ABC\n",
      "Default\n"
     ]
    }
   ],
   "source": [
    "def p(s='Default'):\n",
    "    print(s)\n",
    "p('ABC')\n",
    "p()"
   ]
  },
  {
   "cell_type": "markdown",
   "metadata": {},
   "source": [
    "## Class는 Data와 Action으로 구성"
   ]
  },
  {
   "cell_type": "code",
   "execution_count": 16,
   "metadata": {},
   "outputs": [
    {
     "name": "stdout",
     "output_type": "stream",
     "text": [
      "A\n",
      "B\n",
      "True\n",
      "True\n"
     ]
    }
   ],
   "source": [
    "class Name:\n",
    "    def __init__(self, name):\n",
    "        self.name = name\n",
    "    def disp(self):\n",
    "        print(self.name)\n",
    "    def M(self):\n",
    "        print(__name__=='__main__')\n",
    "\n",
    "n1 = Name('A')\n",
    "n2 = Name('B')\n",
    "\n",
    "n1.disp()\n",
    "n2.disp()\n",
    "\n",
    "n1.M()\n",
    "n2.M()"
   ]
  },
  {
   "cell_type": "markdown",
   "metadata": {},
   "source": [
    "# init = local variance, 밖 = class variance"
   ]
  },
  {
   "cell_type": "code",
   "execution_count": 24,
   "metadata": {},
   "outputs": [
    {
     "name": "stdout",
     "output_type": "stream",
     "text": [
      "Still 1 robots working\n",
      "We have 1 robots.\n"
     ]
    }
   ],
   "source": [
    "class Robot:\n",
    "    num = 0\n",
    "    \n",
    "    def __init__(self, name):\n",
    "        self.name = name\n",
    "        Robot.num += 1          # 클래스 변수\n",
    "        \n",
    "    def die(self):\n",
    "        Robot.num -= 1\n",
    "        if Robot.num == 0:\n",
    "            print('last one')\n",
    "        else:\n",
    "            print('Still {:d} robots working'.format(Robot.num))\n",
    "    \n",
    "    @classmethod                # 클래스 메소드\n",
    "    def how_many(cls):\n",
    "        print('We have {:d} robots.'.format(cls.num))\n",
    "        \n",
    "r1 = Robot('1')\n",
    "r2 = Robot('2')\n",
    "\n",
    "r1.die()\n",
    "Robot.how_many()"
   ]
  },
  {
   "cell_type": "markdown",
   "metadata": {},
   "source": [
    "## Inheritance"
   ]
  },
  {
   "cell_type": "code",
   "execution_count": 52,
   "metadata": {},
   "outputs": [
    {
     "data": {
      "text/plain": [
       "3"
      ]
     },
     "execution_count": 52,
     "metadata": {},
     "output_type": "execute_result"
    }
   ],
   "source": [
    "class c1:\n",
    "    def add(a,b):\n",
    "        return a+b\n",
    "class c2(c1):\n",
    "    def sub(a,b):\n",
    "        return a-b\n",
    "\n",
    "c2.add(1,2)"
   ]
  },
  {
   "cell_type": "markdown",
   "metadata": {},
   "source": [
    "## exercise"
   ]
  },
  {
   "cell_type": "code",
   "execution_count": 38,
   "metadata": {},
   "outputs": [],
   "source": [
    "class cal1:\n",
    "    addcount, subcount, mulcount, divcount = 0,0,0,0\n",
    "       \n",
    "    def add(self,a,b):\n",
    "        cal.addcount += 1\n",
    "        return a+b\n",
    "    \n",
    "    def sub(self,a,b):\n",
    "        cal.subcount += 1\n",
    "        return a-b\n",
    "    \n",
    "    def mul(self,a,b):\n",
    "        cal.mulcount += 1\n",
    "        return a*b\n",
    "    \n",
    "    def div(self,a,b):\n",
    "        cal.divcount += 1\n",
    "        if b == 0:\n",
    "            return 'Devided by 0'\n",
    "        return a/b\n",
    "    \n",
    "    def showcount():\n",
    "        print('덧셈 :',cal.addcount)\n",
    "        print('뺄셈 :',cal.subcount)\n",
    "        print('곱셈 :',cal.mulcount)\n",
    "        print('나눗셈 :',cal.divcount)"
   ]
  },
  {
   "cell_type": "code",
   "execution_count": 39,
   "metadata": {},
   "outputs": [
    {
     "name": "stdout",
     "output_type": "stream",
     "text": [
      "10 + 20 = 30\n",
      "10 - 20 = -10\n",
      "10 * 20 = 200\n",
      "10 / 20 = 0.5\n",
      "덧셈 : 3\n",
      "뺄셈 : 3\n",
      "곱셈 : 3\n",
      "나눗셈 : 3\n"
     ]
    }
   ],
   "source": [
    "C = cal1()\n",
    "print('10 + 20 = %s' %C.add(10,20))\n",
    "print('10 - 20 = %s' %C.sub(10,20))\n",
    "print('10 * 20 = %s' %C.mul(10,20))\n",
    "print('10 / 20 = %s' %C.div(10,20))\n",
    "cal.showcount()"
   ]
  },
  {
   "cell_type": "code",
   "execution_count": 42,
   "metadata": {},
   "outputs": [],
   "source": [
    "class cal2:\n",
    "    addcount, subcount, mulcount, divcount = 0,0,0,0\n",
    "       \n",
    "    @staticmethod\n",
    "    def add(a,b):\n",
    "        cal.addcount += 1\n",
    "        return a+b\n",
    "    @staticmethod\n",
    "    def sub(a,b):\n",
    "        cal.subcount += 1\n",
    "        return a-b\n",
    "    @staticmethod\n",
    "    def mul(a,b):\n",
    "        cal.mulcount += 1\n",
    "        return a*b\n",
    "    @staticmethod\n",
    "    def div(a,b):\n",
    "        cal.divcount += 1\n",
    "        if b == 0:\n",
    "            return 'Devided by 0'\n",
    "        return a/b\n",
    "    def showcount():\n",
    "        print('덧셈 :',cal.addcount)\n",
    "        print('뺄셈 :',cal.subcount)\n",
    "        print('곱셈 :',cal.mulcount)\n",
    "        print('나눗셈 :',cal.divcount)"
   ]
  },
  {
   "cell_type": "code",
   "execution_count": 43,
   "metadata": {},
   "outputs": [
    {
     "name": "stdout",
     "output_type": "stream",
     "text": [
      "10 + 20 = 30\n",
      "10 - 20 = -10\n",
      "10 * 20 = 200\n",
      "10 / 20 = 0.5\n",
      "덧셈 : 5\n",
      "뺄셈 : 5\n",
      "곱셈 : 5\n",
      "나눗셈 : 5\n"
     ]
    }
   ],
   "source": [
    "C = cal()\n",
    "print('10 + 20 = %s' %B.add(10,20))\n",
    "print('10 - 20 = %s' %B.sub(10,20))\n",
    "print('10 * 20 = %s' %B.mul(10,20))\n",
    "print('10 / 20 = %s' %B.div(10,20))\n",
    "cal.showcount()"
   ]
  },
  {
   "cell_type": "code",
   "execution_count": 26,
   "metadata": {},
   "outputs": [
    {
     "name": "stdout",
     "output_type": "stream",
     "text": [
      "ABC\n",
      "3\n"
     ]
    },
    {
     "data": {
      "text/plain": [
       "'AAABBBCCC'"
      ]
     },
     "execution_count": 26,
     "metadata": {},
     "output_type": "execute_result"
    }
   ],
   "source": [
    "def repeat():\n",
    "    S = input()\n",
    "    R = int(input())\n",
    "    P = ''\n",
    "    for s in S:\n",
    "        for _ in range(R):\n",
    "            P += s\n",
    "    return P\n",
    "repeat()"
   ]
  },
  {
   "cell_type": "markdown",
   "metadata": {},
   "source": [
    "# Algorithm은 5개로 구성\n",
    "1. Input\n",
    "2. Output\n",
    "3. Definiteness (명확성)\n",
    "4. Finiteness (유한성)\n",
    "5. Effectiveness (효율성)"
   ]
  },
  {
   "cell_type": "code",
   "execution_count": 124,
   "metadata": {},
   "outputs": [],
   "source": [
    "def rev(a, n1, n2):\n",
    "    if n1 < n2:\n",
    "        a[n1], a[n2] = a[n2], a[n1]\n",
    "        return rev(a, n1+1, n2-1)\n",
    "    else:\n",
    "        return a"
   ]
  },
  {
   "cell_type": "code",
   "execution_count": 125,
   "metadata": {},
   "outputs": [
    {
     "data": {
      "text/plain": [
       "[3, 2, 1]"
      ]
     },
     "execution_count": 125,
     "metadata": {},
     "output_type": "execute_result"
    }
   ],
   "source": [
    "a = [1,2,3]\n",
    "rev(a,0,2)"
   ]
  },
  {
   "cell_type": "code",
   "execution_count": 127,
   "metadata": {},
   "outputs": [
    {
     "data": {
      "text/plain": [
       "120"
      ]
     },
     "execution_count": 127,
     "metadata": {},
     "output_type": "execute_result"
    }
   ],
   "source": [
    "def fac(n):\n",
    "    r = 1\n",
    "    for i in range(1,n+1):\n",
    "        r *= i\n",
    "    return r\n",
    "fac(5)"
   ]
  },
  {
   "cell_type": "markdown",
   "metadata": {},
   "source": [
    "## Assignment 3"
   ]
  },
  {
   "cell_type": "code",
   "execution_count": 139,
   "metadata": {},
   "outputs": [
    {
     "name": "stdout",
     "output_type": "stream",
     "text": [
      "10 5\n"
     ]
    }
   ],
   "source": [
    "def prob1(n1,n2):\n",
    "    return max(n1,n2), min(n1,n2)\n",
    "\n",
    "n1 = 10\n",
    "n2 = 5\n",
    "if __name__ == '__main__':\n",
    "    M, m = prob1(n1,n2)\n",
    "    print(M, m)"
   ]
  },
  {
   "cell_type": "code",
   "execution_count": 140,
   "metadata": {},
   "outputs": [
    {
     "name": "stdout",
     "output_type": "stream",
     "text": [
      "3 1\n"
     ]
    }
   ],
   "source": [
    "def prob2(l):\n",
    "    return max(l), min(l)\n",
    "\n",
    "l = [1,2,3]\n",
    "M, m = prob2(l)\n",
    "print(M, m)"
   ]
  },
  {
   "cell_type": "code",
   "execution_count": 145,
   "metadata": {},
   "outputs": [
    {
     "name": "stdout",
     "output_type": "stream",
     "text": [
      "2 4\n",
      "4 2\n"
     ]
    }
   ],
   "source": [
    "def prob3(a,b):\n",
    "    return b, a\n",
    "\n",
    "a = 2 \n",
    "b = 4\n",
    "print(a,b)\n",
    "a, b = prob3(a,b)\n",
    "print(a,b)"
   ]
  },
  {
   "cell_type": "code",
   "execution_count": null,
   "metadata": {},
   "outputs": [],
   "source": [
    "def prob4(l,a,b):\n",
    "    l[a], a[b] = l[b], l[a]\n",
    "\n",
    "l = [1,2,3]\n",
    "a = 1\n",
    "b = 2\n",
    "print()"
   ]
  },
  {
   "cell_type": "markdown",
   "metadata": {},
   "source": [
    "# Dynamic Array"
   ]
  },
  {
   "cell_type": "code",
   "execution_count": 59,
   "metadata": {},
   "outputs": [],
   "source": [
    "import ctypes # provides low-level arrays\n",
    "\n",
    "class DynamicArray:\n",
    "\n",
    "    def __init__ (self):\n",
    "        self.n = 0 # count actual elements\n",
    "        self.capacity = 1 # default array capacity\n",
    "        self.A = self._make_array(self.capacity) # low-level array\n",
    "        \n",
    "    def __len__ (self):\n",
    "        return self.n\n",
    "\n",
    "    def __getitem__ (self, k):\n",
    "        if not 0 <= k < self.n:\n",
    "            raise IndexError('invalid index')\n",
    "        return self.A[k] # retrieve from array\n",
    "    \n",
    "    def append(self, obj):\n",
    "        if self.n == self.capacity: # not enough room\n",
    "            self.resize(2 * self.capacity) # so double capacity\n",
    "        self.A[self.n] = obj\n",
    "        self.n += 1\n",
    "\n",
    "    def resize(self, c): # nonpublic utitity\n",
    "        B = self._make_array(c) # new (bigger) array\n",
    "        for k in range(self.n): # for each existing value\n",
    "            B[k] = self.A[k]\n",
    "        self.A = B # use the bigger array\n",
    "        self.capacity = c\n",
    "\n",
    "    def _make_array(self, c): # nonpublic utitity\n",
    "        return (c * ctypes.py_object)() # see ctypes documentation\n",
    "    \n",
    "    def insert(self, k, value):\n",
    "        if self.n == self.capacity: # not enough room\n",
    "            self.resize(2 * self.capacity) # so double capacity\n",
    "        for j in range(self.n, k, -1): # shift rightmost first\n",
    "            self.A[j] = self.A[j-1]\n",
    "        self.A[k] = value # store newest element\n",
    "        self.n += 1\n",
    "    \n",
    "    def remove(self, value):\n",
    "        for k in range(self.n):\n",
    "            if self.A[k] == value: # found a match!\n",
    "                for j in range(k, self.n - 1): # shift others to fill gap\n",
    "                    self.A[j] = self.A[j+1]\n",
    "                self.A[self.n - 1] = None # help garbage collection\n",
    "                self.n -= 1 # we have one less item\n",
    "                return # exit immediately\n",
    "        raise ValueError('value not found')\n",
    "        \n",
    "    def __getitem_all__(self):\n",
    "        return self.A[:]"
   ]
  },
  {
   "cell_type": "code",
   "execution_count": 43,
   "metadata": {},
   "outputs": [
    {
     "data": {
      "text/plain": [
       "[3, 4]"
      ]
     },
     "execution_count": 43,
     "metadata": {},
     "output_type": "execute_result"
    }
   ],
   "source": [
    "a = DynamicArray()\n",
    "a.append(3)\n",
    "a.append(4)\n",
    "a.__getitem_all__()"
   ]
  },
  {
   "cell_type": "markdown",
   "metadata": {},
   "source": [
    "## 단순연결리스트"
   ]
  },
  {
   "cell_type": "code",
   "execution_count": 123,
   "metadata": {},
   "outputs": [],
   "source": [
    "class SList:\n",
    "    class Node:\n",
    "        def __init__(self, item, link):\n",
    "            self.item = item\n",
    "            self.next = link\n",
    "    \n",
    "    def __init__(self):\n",
    "        self.head = None\n",
    "        self.size = 0\n",
    "    \n",
    "    def size(self): return self.size\n",
    "    def is_empty(self): return self.size == 0\n",
    "    \n",
    "    def insert_front(self, item):\n",
    "        self.head = self.Node(item, self.head)\n",
    "        self.size += 1\n",
    "    \n",
    "    def insert_after(self, item, p):\n",
    "        p.next = SList.Node(item, p.next)\n",
    "        self.size += 1\n",
    "        \n",
    "    def delete_front(self):\n",
    "        if self.is_empty():\n",
    "            raise EmptyError('Underflow')\n",
    "        else:\n",
    "            self.head = self.head.next\n",
    "            self.size -= 1\n",
    "            \n",
    "    def delete_after(self, p):\n",
    "        if self.is_empty():\n",
    "            raise EmptyError('Underflow')\n",
    "        p.next = p.next.next\n",
    "        self.size -= 1\n",
    "        \n",
    "    def search(self, target):\n",
    "        p = self.head\n",
    "        for k in range(self.size):\n",
    "            if target == p.item : return k\n",
    "            p = p.next\n",
    "        return None\n",
    "    \n",
    "    def print_list(self):\n",
    "        p = self.head\n",
    "        while p:\n",
    "            if p.next != None:\n",
    "                print(p.item, '-> ', end = '')\n",
    "            else:\n",
    "                print(p.item)\n",
    "            p = p.next\n",
    "\n",
    "class EmpytError(Exception):\n",
    "    pass"
   ]
  },
  {
   "cell_type": "code",
   "execution_count": 126,
   "metadata": {
    "scrolled": true
   },
   "outputs": [
    {
     "name": "stdout",
     "output_type": "stream",
     "text": [
      "1\n",
      "d -> b -> a -> c\n"
     ]
    }
   ],
   "source": [
    "s = SList()\n",
    "s.insert_front('a')\n",
    "s.insert_front('b')\n",
    "s.insert_after('c', s.head.next)\n",
    "s.insert_front('d')\n",
    "print(s.search('b'))\n",
    "s.print_list()"
   ]
  },
  {
   "cell_type": "markdown",
   "metadata": {},
   "source": [
    "## 이중연결리스트"
   ]
  },
  {
   "cell_type": "code",
   "execution_count": 17,
   "metadata": {},
   "outputs": [],
   "source": [
    "class DList:\n",
    "    class Node:\n",
    "        def __init__(self, item, link1, link2):\n",
    "            self.item = item\n",
    "            self.prev = link1\n",
    "            self.next = link2\n",
    "    \n",
    "    def __init__(self):\n",
    "        self.head = self.Node(None, None, None)\n",
    "        self.tail = self.Node(None, self.head, None)\n",
    "        self.head.next = self.tail\n",
    "        self.size = 0\n",
    "    \n",
    "    def size(self): return self.size\n",
    "    def is_empty(self): return self.size == 0\n",
    "    \n",
    "    def insert_front(self, item):\n",
    "        self.head = self.Node(item, None, self.head)\n",
    "        self.size += 1\n",
    "    \n",
    "    def insert_before(self, item, p):\n",
    "        t = p.prev\n",
    "        n = self.Node(item, t, p)\n",
    "        p.prev = n\n",
    "        t.next = n\n",
    "        self.size += 1\n",
    "        \n",
    "    def insert_after(self, item, p):\n",
    "        t = p.next\n",
    "        n = self.Node(item, p, t)\n",
    "        t.prev = n\n",
    "        p.next = n\n",
    "        self.size += 1\n",
    "        \n",
    "    def delete_front(self):\n",
    "        if self.is_empty():\n",
    "            raise EmptyError('Underflow')\n",
    "        else:\n",
    "            self.head = self.head.next\n",
    "            self.size -= 1\n",
    "    \n",
    "    def delete_before(self, p):\n",
    "        if self.is_empty():\n",
    "            raise EmptyError('Underflow')\n",
    "        p.prev = p.prev.prev\n",
    "        self.size -= 1\n",
    "        \n",
    "    def delete_after(self, p):\n",
    "        if self.is_empty():\n",
    "            raise EmptyError('Underflow')\n",
    "        p.next = p.next.next\n",
    "        self.size -= 1\n",
    "    \n",
    "    def delete(self, x):\n",
    "        f = x.prev\n",
    "        r = x.next\n",
    "        f.next = r\n",
    "        r.prev = f\n",
    "        self.size -= 1\n",
    "        return x.item\n",
    "        \n",
    "    def search(self, target):\n",
    "        p = self.head\n",
    "        for k in range(self.size):\n",
    "            if target == p.item : return k\n",
    "            p = p.next\n",
    "        return None\n",
    "    \n",
    "    def print_list(self):\n",
    "        p = self.head\n",
    "        while p:\n",
    "            if p.next != self.tail:\n",
    "                print(p.item, '<=> ', end = '')\n",
    "            else:\n",
    "                print(p.item)\n",
    "            p = p.next\n",
    "\n",
    "class EmpytError(Exception):\n",
    "    pass"
   ]
  },
  {
   "cell_type": "code",
   "execution_count": 18,
   "metadata": {},
   "outputs": [
    {
     "name": "stdout",
     "output_type": "stream",
     "text": [
      "1\n",
      "d <=> b <=> a <=> c <=> None\n",
      "None <=> "
     ]
    }
   ],
   "source": [
    "d = DList()\n",
    "d.insert_front('a')\n",
    "d.insert_front('b')\n",
    "d.insert_after('c', d.head.next)\n",
    "d.insert_front('d')\n",
    "print(d.search('b'))\n",
    "d.print_list()"
   ]
  },
  {
   "cell_type": "markdown",
   "metadata": {},
   "source": [
    "## 원형연결리스트 : tail이 head를 가리키는 단순연결리스트"
   ]
  },
  {
   "cell_type": "code",
   "execution_count": 35,
   "metadata": {},
   "outputs": [
    {
     "name": "stdout",
     "output_type": "stream",
     "text": [
      "10\n",
      "20\n"
     ]
    }
   ],
   "source": [
    "class Node:\n",
    "    def __init__(self, item, link):\n",
    "        self.item = item\n",
    "        self.next = link\n",
    "        \n",
    "n1 = Node(10, None)\n",
    "last = n1\n",
    "n1.next = last\n",
    "\n",
    "n2 = Node(20, last)\n",
    "n1.next = n2\n",
    "\n",
    "n3 = Node(30, last)\n",
    "n2.next = n3\n",
    "\n",
    "n = last\n",
    "while n.next != last:\n",
    "    print(n.item)\n",
    "    n = n.next"
   ]
  },
  {
   "cell_type": "code",
   "execution_count": 34,
   "metadata": {},
   "outputs": [
    {
     "data": {
      "text/plain": [
       "30"
      ]
     },
     "execution_count": 34,
     "metadata": {},
     "output_type": "execute_result"
    }
   ],
   "source": [
    "n3.item"
   ]
  },
  {
   "cell_type": "markdown",
   "metadata": {},
   "source": [
    "# Push, Pop"
   ]
  },
  {
   "cell_type": "code",
   "execution_count": 12,
   "metadata": {},
   "outputs": [],
   "source": [
    "class Node:\n",
    "    def __init__(self, item, link):\n",
    "        self.item = item\n",
    "        self.next = link\n",
    "\n",
    "top = None\n",
    "top = Node(100, top)\n",
    "top = Node(200, top)\n",
    "top = Node(300, top)"
   ]
  },
  {
   "cell_type": "code",
   "execution_count": 13,
   "metadata": {},
   "outputs": [
    {
     "name": "stdout",
     "output_type": "stream",
     "text": [
      "300\n",
      "200\n",
      "100\n"
     ]
    }
   ],
   "source": [
    "print(top.item)\n",
    "top = top.next\n",
    "print(top.item)\n",
    "top = top.next\n",
    "print(top.item)"
   ]
  },
  {
   "cell_type": "code",
   "execution_count": 1,
   "metadata": {},
   "outputs": [],
   "source": [
    "class stack:\n",
    "    state = None\n",
    "    def __init__(self):\n",
    "        self.list = []\n",
    "    \n",
    "    def push(self, item):\n",
    "        self.list.append(item)\n",
    "    \n",
    "    def pop(self):\n",
    "        self.list.pop()\n",
    "\n",
    "class EmptyError(Exception):\n",
    "    pass"
   ]
  },
  {
   "cell_type": "code",
   "execution_count": 3,
   "metadata": {},
   "outputs": [],
   "source": [
    "open_list = ['(','{', '[']\n",
    "close_list = [')', '}', ']']\n",
    "l = ['{','(',')','}']\n",
    "\n",
    "s = stack()\n",
    "for i in range(len(l)):\n",
    "    if l[i] in open_list:\n",
    "        s.push(l[i])\n",
    "        s.state = open_list.index(l[i])\n",
    "    elif l[i] in close_list:\n",
    "        if s.state == close_list.index(l[i]):\n",
    "            s.pop()\n",
    "            k = i-2\n",
    "            while l[k] not in open_list:\n",
    "                k -= 1\n",
    "                break\n",
    "            s.state = open_list.index(l[k])\n",
    "        else:\n",
    "            raise EmptyError('Empty')\n",
    "    else:\n",
    "        raise NameError('Wrong string')"
   ]
  },
  {
   "cell_type": "code",
   "execution_count": 5,
   "metadata": {},
   "outputs": [
    {
     "name": "stdout",
     "output_type": "stream",
     "text": [
      "top -> cherry -> orange -> apple\n",
      "cherry\n",
      "top -> pear -> cherry -> orange -> apple\n",
      "top -> grape -> cherry -> orange -> apple\n"
     ]
    }
   ],
   "source": [
    "class stack:\n",
    "    class Node:\n",
    "        def __init__(self, item, link):\n",
    "            self.item = item\n",
    "            self.next = link\n",
    "    \n",
    "    def __init__(self):\n",
    "        self.top = None\n",
    "        self.size = 0\n",
    "        \n",
    "    def push(self, item):\n",
    "        self.top = self.Node(item, self.top)\n",
    "        self.size += 1\n",
    "\n",
    "    def peek(self):\n",
    "        if self.size != 0:\n",
    "            return self.top.item\n",
    "\n",
    "    def pop(self):\n",
    "        if self.size != 0:\n",
    "            top_item = self.top.item\n",
    "            self.top = self.top.next\n",
    "            self.size -= 1\n",
    "            return top_item\n",
    "\n",
    "    def print_stack(self):\n",
    "        print('top -> ', end='')\n",
    "        p = self.top\n",
    "        while p:\n",
    "            if p.next != None:\n",
    "                print(p.item, '-> ', end='')\n",
    "            else:\n",
    "                print(p.item, end='')\n",
    "            p = p.next\n",
    "        print()\n",
    "\n",
    "s = stack()\n",
    "s.push('apple')\n",
    "s.push('orange')\n",
    "s.push('cherry')\n",
    "s.print_stack()\n",
    "print(s.peek())\n",
    "s.push('pear')\n",
    "s.print_stack()\n",
    "s.pop()\n",
    "s.push('grape')\n",
    "s.print_stack()"
   ]
  },
  {
   "cell_type": "markdown",
   "metadata": {},
   "source": [
    "# Tree"
   ]
  },
  {
   "cell_type": "code",
   "execution_count": 2,
   "metadata": {},
   "outputs": [
    {
     "name": "stdout",
     "output_type": "stream",
     "text": [
      "4\n",
      "100 200 400 800 300 600 700  \n",
      "800 400 200 100 600 300 700  \n",
      "800 400 200 600 700 300 100 "
     ]
    }
   ],
   "source": [
    "class BinaryTree:\n",
    "    class Node:\n",
    "        def __init__(self, item, left=None, right=None):\n",
    "            self.item = item\n",
    "            self.left = left\n",
    "            self.right =right\n",
    "    def __init__(self):\n",
    "        self.root = None\n",
    "\n",
    "    def height(self, root):\n",
    "        if root == None:\n",
    "            return 0\n",
    "        return max(self.height(root.left), self.height(root.right)) + 1\n",
    "    \n",
    "    def pre(self, n): # 전위 순회\n",
    "        if n != None:\n",
    "            print(str(n.item), end = ' ')\n",
    "            if n.left:\n",
    "                self.pre(n.left)\n",
    "            if n.right:\n",
    "                self.pre(n.right)\n",
    "    \n",
    "    def mid(self, n): # 중위 순회\n",
    "        if n != None:\n",
    "            if n.left:\n",
    "                self.mid(n.left)\n",
    "            print(str(n.item), end = ' ')\n",
    "            if n.right:\n",
    "                self.mid(n.right)\n",
    "                \n",
    "    def post(self, n): # 후위 순회\n",
    "        if n != None:\n",
    "            if n.left:\n",
    "                self.post(n.left)\n",
    "            if n.right:\n",
    "                self.post(n.right)\n",
    "            print(str(n.item), end = ' ')\n",
    "            \n",
    "t = BinaryTree()\n",
    "n1 = t.Node(100)\n",
    "n2 = t.Node(200)\n",
    "n3 = t.Node(300)\n",
    "n4 = t.Node(400)\n",
    "n5 = t.Node(500)\n",
    "n6 = t.Node(600)\n",
    "n7 = t.Node(700)\n",
    "n8 = t.Node(800)\n",
    "\n",
    "n1.left = n2\n",
    "n1.right = n3\n",
    "n2.left = n4\n",
    "n3.right = n5\n",
    "n3.left = n6\n",
    "n3.right = n7\n",
    "n4.left = n8\n",
    "t.root = n1\n",
    "\n",
    "print(t.height(n1))\n",
    "t.pre(n1)\n",
    "print(' ')\n",
    "t.mid(n1)\n",
    "print(' ')\n",
    "t.post(n1)"
   ]
  },
  {
   "cell_type": "code",
   "execution_count": null,
   "metadata": {},
   "outputs": [],
   "source": []
  }
 ],
 "metadata": {
  "kernelspec": {
   "display_name": "Python 3",
   "language": "python",
   "name": "python3"
  },
  "language_info": {
   "codemirror_mode": {
    "name": "ipython",
    "version": 3
   },
   "file_extension": ".py",
   "mimetype": "text/x-python",
   "name": "python",
   "nbconvert_exporter": "python",
   "pygments_lexer": "ipython3",
   "version": "3.7.3"
  }
 },
 "nbformat": 4,
 "nbformat_minor": 2
}
