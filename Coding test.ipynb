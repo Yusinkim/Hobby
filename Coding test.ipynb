{
 "cells": [
  {
   "cell_type": "code",
   "execution_count": 117,
   "metadata": {},
   "outputs": [],
   "source": [
    "candles = [5,5]"
   ]
  },
  {
   "cell_type": "code",
   "execution_count": 118,
   "metadata": {},
   "outputs": [
    {
     "name": "stdout",
     "output_type": "stream",
     "text": [
      "1번째 밤\n",
      "[5, 4]\n",
      "2번째 밤\n",
      "[3, 4]\n",
      "2 초가 길기만 해\n"
     ]
    }
   ],
   "source": [
    "out_break = 0\n",
    "for i in range(len(candles)):\n",
    "    print('{}번째 밤'.format(i+1))\n",
    "    candles.sort()\n",
    "    for j in range(i+1):\n",
    "        candles[len(candles)-1-j] -= 1\n",
    "        if candles[len(candles)-1-j] < 0:\n",
    "            print(i,'마이너스')\n",
    "            out_break = 1\n",
    "            break\n",
    "    print(candles)\n",
    "    if out_break:\n",
    "        break\n",
    "    elif sum(candles) == 0:\n",
    "        print(i+1,'딱 0이네')\n",
    "        break\n",
    "    elif i+1 == len(candles):\n",
    "        print(i+1,'초가 길기만 해')\n",
    "        break"
   ]
  },
  {
   "cell_type": "code",
   "execution_count": 4,
   "metadata": {},
   "outputs": [
    {
     "data": {
      "text/plain": [
       "1"
      ]
     },
     "execution_count": 4,
     "metadata": {},
     "output_type": "execute_result"
    }
   ],
   "source": [
    "5%2"
   ]
  },
  {
   "cell_type": "code",
   "execution_count": 10,
   "metadata": {},
   "outputs": [
    {
     "data": {
      "text/plain": [
       "2"
      ]
     },
     "execution_count": 10,
     "metadata": {},
     "output_type": "execute_result"
    }
   ],
   "source": [
    "arr = [1,2,3,4,5]\n",
    "len([i for i in arr if i%2==0])"
   ]
  },
  {
   "cell_type": "code",
   "execution_count": 156,
   "metadata": {},
   "outputs": [
    {
     "data": {
      "text/plain": [
       "133"
      ]
     },
     "execution_count": 156,
     "metadata": {},
     "output_type": "execute_result"
    }
   ],
   "source": [
    "a = 1400\n",
    "count = 0\n",
    "for i in range(1,a+1):\n",
    "    for j in range(len(str(i))-1):\n",
    "        if str(i)[j:j+2] == '13':\n",
    "            count += 1\n",
    "            break\n",
    "count"
   ]
  },
  {
   "cell_type": "code",
   "execution_count": 118,
   "metadata": {},
   "outputs": [
    {
     "name": "stdout",
     "output_type": "stream",
     "text": [
      "[40, 55, 3, 120, 70, 1500, 1] 0 0 0\n",
      "[40, 3, 55, 120, 70, 1500, 1] 0 1 0\n",
      "[40, 3, 120, 55, 70, 1500, 1] 0 2 0\n",
      "[40, 3, 120, 55, 1500, 70, 1] 0 4 0\n",
      "[40, 3, 120, 55, 1500, 1, 70] 0 5 0\n",
      "[3, 40, 120, 55, 1500, 1, 70] 1 0 0\n",
      "[3, 120, 40, 55, 1500, 1, 70] 1 1 0\n",
      "[3, 120, 40, 1500, 55, 1, 70] 1 3 0\n",
      "[3, 120, 40, 1500, 1, 55, 70] 1 4 0\n",
      "[120, 3, 40, 1500, 1, 55, 70] 2 0 0\n",
      "[120, 3, 1500, 40, 1, 55, 70] 2 2 0\n",
      "[120, 3, 1500, 1, 40, 55, 70] 2 3 0\n",
      "[120, 1500, 3, 1, 40, 55, 70] 3 1 0\n",
      "[120, 1500, 1, 3, 40, 55, 70] 3 2 0\n"
     ]
    },
    {
     "data": {
      "text/plain": [
       "[1, 120, 1500, 3, 40, 55, 70]"
      ]
     },
     "execution_count": 118,
     "metadata": {},
     "output_type": "execute_result"
    }
   ],
   "source": [
    "arr = [55,40,3,120,70,1500,1]\n",
    "for i in range(len(arr)-1):\n",
    "    for j in range(len(arr)-1-i):\n",
    "        for k in range(min(len(str(arr[j])),len(str(arr[j+1])))):\n",
    "            if str(arr[j])[k] > str(arr[j+1])[k]:\n",
    "                a = arr[j]\n",
    "                arr[j] = arr[j+1]\n",
    "                arr[j+1] = a\n",
    "                print(arr,i,j,k)\n",
    "                break\n",
    "            elif str(arr[j])[k] == str(arr[j+1])[k]:\n",
    "                if k == min(len(str(arr[j])),len(str(arr[j+1])))-1:\n",
    "                    if arr[j] > arr[j+1]:\n",
    "                        a = arr[j]\n",
    "                        arr[j] = arr[j+1]\n",
    "                        arr[j+1] = a\n",
    "                continue\n",
    "            else:\n",
    "                break\n",
    "arr"
   ]
  },
  {
   "cell_type": "code",
   "execution_count": 12,
   "metadata": {},
   "outputs": [
    {
     "name": "stdout",
     "output_type": "stream",
     "text": [
      "[1, 5]\n"
     ]
    }
   ],
   "source": [
    "cmds = [\"PUSH 1\",\"PUSH 2\",\"PUSH 3\",\"POP\",\"POP\",\"PUSH 4\",\"POP\",\"PUSH 5\"]\n",
    "a = []\n",
    "for i in range(len(cmds)):\n",
    "    if cmds[i][1] == 'U':\n",
    "        a.append(int(cmds[i][5:]))\n",
    "    elif cmds[i][1] == 'O':\n",
    "        try:\n",
    "            a.remove(a[len(a)-1])\n",
    "        except:\n",
    "            pass\n",
    "print(a)"
   ]
  },
  {
   "cell_type": "code",
   "execution_count": 8,
   "metadata": {},
   "outputs": [],
   "source": [
    "b = []\n",
    "b.append(int(cmds[0][4:6]))"
   ]
  },
  {
   "cell_type": "code",
   "execution_count": 9,
   "metadata": {},
   "outputs": [
    {
     "data": {
      "text/plain": [
       "[1]"
      ]
     },
     "execution_count": 9,
     "metadata": {},
     "output_type": "execute_result"
    }
   ],
   "source": [
    "b"
   ]
  },
  {
   "cell_type": "code",
   "execution_count": 248,
   "metadata": {},
   "outputs": [
    {
     "name": "stdout",
     "output_type": "stream",
     "text": [
      "7302.767040441326\n",
      "0.0001814263298149877\n",
      "0.00018142632981498754\n"
     ]
    }
   ],
   "source": [
    "x1 = 7\n",
    "m1 = 9657\n",
    "x2 = 7549\n",
    "m2 = 11\n",
    "x = ( m1**(1/2)*x2 + m2**(1/2)*x1 ) / ( m1**(1/2) + m2**(1/2) )\n",
    "print(x)\n",
    "print(m1/(x1-x)**2)\n",
    "print(m2/(x2-x)**2)"
   ]
  },
  {
   "cell_type": "code",
   "execution_count": 249,
   "metadata": {},
   "outputs": [
    {
     "name": "stdout",
     "output_type": "stream",
     "text": [
      "7302.767040441326\n",
      "0.0001814263298149877\n",
      "0.00018142632981498754\n"
     ]
    }
   ],
   "source": [
    "x1 = 7\n",
    "m1 = 9657\n",
    "x2 = 7549\n",
    "m2 = 11\n",
    "L = x1\n",
    "R = x2\n",
    "x = (x1+x2)/2\n",
    "if x1==x2:\n",
    "    print(x)\n",
    "else:\n",
    "    for i in range(200):\n",
    "        if m1/(x1-x)**2 > m2/(x2-x)**2:\n",
    "            L = x\n",
    "        elif m1/(x1-x)**2 == m2/(x2-x)**2:\n",
    "            break\n",
    "        else:\n",
    "            R = x\n",
    "        x = (L + R)/2\n",
    "print(x)\n",
    "print(m1/(x1-x)**2)\n",
    "print(m2/(x2-x)**2)"
   ]
  },
  {
   "cell_type": "code",
   "execution_count": 239,
   "metadata": {},
   "outputs": [],
   "source": [
    "x = (x1+x2)/2"
   ]
  },
  {
   "cell_type": "code",
   "execution_count": 240,
   "metadata": {},
   "outputs": [
    {
     "data": {
      "text/plain": [
       "5.5"
      ]
     },
     "execution_count": 240,
     "metadata": {},
     "output_type": "execute_result"
    }
   ],
   "source": [
    "x"
   ]
  },
  {
   "cell_type": "code",
   "execution_count": 238,
   "metadata": {},
   "outputs": [],
   "source": [
    "x2 = 10"
   ]
  },
  {
   "cell_type": "code",
   "execution_count": 253,
   "metadata": {},
   "outputs": [
    {
     "data": {
      "text/plain": [
       "'23'"
      ]
     },
     "execution_count": 253,
     "metadata": {},
     "output_type": "execute_result"
    }
   ],
   "source": [
    "A = ['123','456']\n",
    "A[0][1:]"
   ]
  },
  {
   "cell_type": "code",
   "execution_count": 262,
   "metadata": {},
   "outputs": [
    {
     "data": {
      "text/plain": [
       "0"
      ]
     },
     "execution_count": 262,
     "metadata": {},
     "output_type": "execute_result"
    }
   ],
   "source": [
    "A = [1,2,3,1]\n",
    "A.index(min(A))"
   ]
  },
  {
   "cell_type": "code",
   "execution_count": 1,
   "metadata": {},
   "outputs": [],
   "source": [
    "A = [1,1,1]\n",
    "A = set(A)"
   ]
  },
  {
   "cell_type": "code",
   "execution_count": 2,
   "metadata": {},
   "outputs": [
    {
     "ename": "TypeError",
     "evalue": "'set' object does not support indexing",
     "output_type": "error",
     "traceback": [
      "\u001b[1;31m---------------------------------------------------------------------------\u001b[0m",
      "\u001b[1;31mTypeError\u001b[0m                                 Traceback (most recent call last)",
      "\u001b[1;32m<ipython-input-2-782c0e2fe61c>\u001b[0m in \u001b[0;36m<module>\u001b[1;34m()\u001b[0m\n\u001b[1;32m----> 1\u001b[1;33m \u001b[0mA\u001b[0m\u001b[1;33m[\u001b[0m\u001b[1;36m0\u001b[0m\u001b[1;33m]\u001b[0m\u001b[1;33m\u001b[0m\u001b[0m\n\u001b[0m",
      "\u001b[1;31mTypeError\u001b[0m: 'set' object does not support indexing"
     ]
    }
   ],
   "source": [
    "A[0]"
   ]
  },
  {
   "cell_type": "code",
   "execution_count": 276,
   "metadata": {},
   "outputs": [
    {
     "name": "stdout",
     "output_type": "stream",
     "text": [
      "1\n"
     ]
    }
   ],
   "source": [
    "for i in range(1):\n",
    "    print(1)"
   ]
  },
  {
   "cell_type": "code",
   "execution_count": 277,
   "metadata": {},
   "outputs": [],
   "source": [
    "A = [1,1,2,3,4,5]\n",
    "A.remove(A[0])"
   ]
  },
  {
   "cell_type": "code",
   "execution_count": 278,
   "metadata": {},
   "outputs": [
    {
     "data": {
      "text/plain": [
       "[2, 3, 4, 5]"
      ]
     },
     "execution_count": 278,
     "metadata": {},
     "output_type": "execute_result"
    }
   ],
   "source": [
    "A"
   ]
  },
  {
   "cell_type": "code",
   "execution_count": 281,
   "metadata": {},
   "outputs": [],
   "source": [
    "A = [-3,-4]\n",
    "A.sort()"
   ]
  },
  {
   "cell_type": "code",
   "execution_count": 282,
   "metadata": {},
   "outputs": [
    {
     "data": {
      "text/plain": [
       "[-4, -3]"
      ]
     },
     "execution_count": 282,
     "metadata": {},
     "output_type": "execute_result"
    }
   ],
   "source": [
    "A"
   ]
  },
  {
   "cell_type": "code",
   "execution_count": 285,
   "metadata": {},
   "outputs": [
    {
     "ename": "TypeError",
     "evalue": "'set' object is not callable",
     "output_type": "error",
     "traceback": [
      "\u001b[1;31m---------------------------------------------------------------------------\u001b[0m",
      "\u001b[1;31mTypeError\u001b[0m                                 Traceback (most recent call last)",
      "\u001b[1;32m<ipython-input-285-c317d3ab2437>\u001b[0m in \u001b[0;36m<module>\u001b[1;34m()\u001b[0m\n\u001b[0;32m      1\u001b[0m \u001b[0mA\u001b[0m \u001b[1;33m=\u001b[0m \u001b[1;33m[\u001b[0m\u001b[1;36m1\u001b[0m\u001b[1;33m,\u001b[0m\u001b[1;36m2\u001b[0m\u001b[1;33m,\u001b[0m\u001b[1;36m3\u001b[0m\u001b[1;33m]\u001b[0m\u001b[1;33m\u001b[0m\u001b[0m\n\u001b[1;32m----> 2\u001b[1;33m \u001b[0mA\u001b[0m \u001b[1;33m=\u001b[0m \u001b[0mset\u001b[0m\u001b[1;33m(\u001b[0m\u001b[0mA\u001b[0m\u001b[1;33m)\u001b[0m\u001b[1;33m\u001b[0m\u001b[0m\n\u001b[0m",
      "\u001b[1;31mTypeError\u001b[0m: 'set' object is not callable"
     ]
    }
   ],
   "source": [
    "A = [1,2,3]\n",
    "A = set(A)"
   ]
  },
  {
   "cell_type": "code",
   "execution_count": 30,
   "metadata": {},
   "outputs": [
    {
     "data": {
      "text/plain": [
       "0.7853981633974483"
      ]
     },
     "execution_count": 30,
     "metadata": {},
     "output_type": "execute_result"
    }
   ],
   "source": [
    "import math\n",
    "math.atan(1)"
   ]
  },
  {
   "cell_type": "code",
   "execution_count": 22,
   "metadata": {},
   "outputs": [
    {
     "data": {
      "text/plain": [
       "True"
      ]
     },
     "execution_count": 22,
     "metadata": {},
     "output_type": "execute_result"
    }
   ],
   "source": [
    "1.2246467991473532e-16 < 0.00001"
   ]
  },
  {
   "cell_type": "code",
   "execution_count": 31,
   "metadata": {},
   "outputs": [
    {
     "data": {
      "text/plain": [
       "-0.7853981633974483"
      ]
     },
     "execution_count": 31,
     "metadata": {},
     "output_type": "execute_result"
    }
   ],
   "source": [
    "math.atan(-1)"
   ]
  },
  {
   "cell_type": "code",
   "execution_count": 32,
   "metadata": {},
   "outputs": [
    {
     "data": {
      "text/plain": [
       "['1', '1', '2']"
      ]
     },
     "execution_count": 32,
     "metadata": {},
     "output_type": "execute_result"
    }
   ],
   "source": [
    "A = ['1','2']\n",
    "A.append(A[-1])\n",
    "A[1] = '1'\n",
    "A"
   ]
  },
  {
   "cell_type": "code",
   "execution_count": null,
   "metadata": {},
   "outputs": [],
   "source": [
    "MMMMM"
   ]
  },
  {
   "cell_type": "code",
   "execution_count": 37,
   "metadata": {},
   "outputs": [],
   "source": [
    "n1 = 2\n",
    "n2 = 3\n",
    "shape = 'M' * (n1+n2)"
   ]
  },
  {
   "cell_type": "code",
   "execution_count": 38,
   "metadata": {},
   "outputs": [
    {
     "data": {
      "text/plain": [
       "'MMMMM'"
      ]
     },
     "execution_count": 38,
     "metadata": {},
     "output_type": "execute_result"
    }
   ],
   "source": [
    "shape"
   ]
  },
  {
   "cell_type": "code",
   "execution_count": null,
   "metadata": {},
   "outputs": [],
   "source": [
    "# n번째 남자가 K칸 이동(F는 카운트X)해서 F를 심는다"
   ]
  },
  {
   "cell_type": "code",
   "execution_count": 54,
   "metadata": {},
   "outputs": [],
   "source": [
    "A = 'ABBC'\n",
    "B = A[0] + A[1] + A[2] + A[3]"
   ]
  },
  {
   "cell_type": "code",
   "execution_count": 55,
   "metadata": {},
   "outputs": [
    {
     "data": {
      "text/plain": [
       "'ABBC'"
      ]
     },
     "execution_count": 55,
     "metadata": {},
     "output_type": "execute_result"
    }
   ],
   "source": [
    "B"
   ]
  },
  {
   "cell_type": "code",
   "execution_count": 89,
   "metadata": {},
   "outputs": [
    {
     "name": "stdout",
     "output_type": "stream",
     "text": [
      "0\n"
     ]
    }
   ],
   "source": [
    "a = 'aaabaaa'\n",
    "i = 0\n",
    "count_i = 0\n",
    "want = 1\n",
    "while 1:\n",
    "    if count_i == want:\n",
    "        break\n",
    "    if a[i] == 'a':\n",
    "        count_i += 1\n",
    "    i += 1\n",
    "print(i-1)"
   ]
  },
  {
   "cell_type": "code",
   "execution_count": 7,
   "metadata": {},
   "outputs": [
    {
     "name": "stdout",
     "output_type": "stream",
     "text": [
      "MFMFMFMM\n"
     ]
    }
   ],
   "source": [
    "n1 = 5\n",
    "n2 = 3\n",
    "K = 2\n",
    "shape = ['M'] * (n1+n2)\n",
    "for n in range(n2):\n",
    "    i = 0\n",
    "    count_i = 0\n",
    "    while 1:\n",
    "        if count_i == K:\n",
    "            break\n",
    "        if shape[i%len(shape)] == 'M':\n",
    "            count_i += 1\n",
    "        i += 1\n",
    "    j = 0\n",
    "    count_j = 0\n",
    "    while 1:\n",
    "        if count_j == n:\n",
    "            break\n",
    "        if shape[j%len(shape)] == 'M':\n",
    "            count_j += 1\n",
    "        j += 1\n",
    "    shape[(i+j-1)%len(shape)] = 'F'\n",
    "result = ''\n",
    "for i in range(len(shape)):\n",
    "    result += shape[i]\n",
    "print(result)"
   ]
  },
  {
   "cell_type": "code",
   "execution_count": 2,
   "metadata": {},
   "outputs": [],
   "source": [
    "n1 = 5\n",
    "n2 = 3\n",
    "K = 2\n",
    "shape = ['M'] * (n1+n2)"
   ]
  },
  {
   "cell_type": "code",
   "execution_count": 4,
   "metadata": {},
   "outputs": [
    {
     "data": {
      "text/plain": [
       "True"
      ]
     },
     "execution_count": 4,
     "metadata": {},
     "output_type": "execute_result"
    }
   ],
   "source": [
    "shape[0%len(shape)] == 'M'"
   ]
  },
  {
   "cell_type": "code",
   "execution_count": 5,
   "metadata": {},
   "outputs": [],
   "source": [
    "i = 0\n",
    "count_i = 0\n",
    "while 1:\n",
    "    if count_i == K:\n",
    "        break\n",
    "    if shape[i%len(shape)] == 'M':\n",
    "        count_i += 1\n",
    "    i += 1\n",
    "shape[(i-1)%len(shape)] = 'F'"
   ]
  },
  {
   "cell_type": "code",
   "execution_count": 6,
   "metadata": {},
   "outputs": [
    {
     "data": {
      "text/plain": [
       "['M', 'F', 'M', 'M', 'M', 'M', 'M', 'M']"
      ]
     },
     "execution_count": 6,
     "metadata": {},
     "output_type": "execute_result"
    }
   ],
   "source": [
    "shape"
   ]
  },
  {
   "cell_type": "code",
   "execution_count": 3,
   "metadata": {},
   "outputs": [
    {
     "data": {
      "text/plain": [
       "[1, 2, 3]"
      ]
     },
     "execution_count": 3,
     "metadata": {},
     "output_type": "execute_result"
    }
   ],
   "source": [
    "a = [1,2,3,3,3]\n",
    "A = list(set(a))\n",
    "A"
   ]
  },
  {
   "cell_type": "code",
   "execution_count": 16,
   "metadata": {},
   "outputs": [
    {
     "data": {
      "text/plain": [
       "5"
      ]
     },
     "execution_count": 16,
     "metadata": {},
     "output_type": "execute_result"
    }
   ],
   "source": [
    "a = [1,2,3,3,3]\n",
    "a.reverse()\n",
    "len(a)-a.index(3)"
   ]
  },
  {
   "cell_type": "code",
   "execution_count": 11,
   "metadata": {},
   "outputs": [
    {
     "name": "stdout",
     "output_type": "stream",
     "text": [
      "None\n"
     ]
    }
   ],
   "source": [
    "print(a.reverse())"
   ]
  },
  {
   "cell_type": "code",
   "execution_count": 17,
   "metadata": {},
   "outputs": [
    {
     "data": {
      "text/plain": [
       "3"
      ]
     },
     "execution_count": 17,
     "metadata": {},
     "output_type": "execute_result"
    }
   ],
   "source": [
    "max([1,2,3,3])"
   ]
  },
  {
   "cell_type": "code",
   "execution_count": 30,
   "metadata": {},
   "outputs": [
    {
     "name": "stdout",
     "output_type": "stream",
     "text": [
      "40\n"
     ]
    }
   ],
   "source": [
    "events = [10,20,30,40,50]\n",
    "s = list(set(events))\n",
    "c = [events.count(s[i]) for i in range(len(s))]\n",
    "print(s[c.index(max(c))])"
   ]
  },
  {
   "cell_type": "code",
   "execution_count": 38,
   "metadata": {},
   "outputs": [],
   "source": [
    "a = set([10,20,30,40,50])"
   ]
  },
  {
   "cell_type": "code",
   "execution_count": 39,
   "metadata": {},
   "outputs": [
    {
     "data": {
      "text/plain": [
       "{10, 20, 30, 40, 50}"
      ]
     },
     "execution_count": 39,
     "metadata": {},
     "output_type": "execute_result"
    }
   ],
   "source": [
    "a"
   ]
  },
  {
   "cell_type": "code",
   "execution_count": 40,
   "metadata": {},
   "outputs": [
    {
     "data": {
      "text/plain": [
       "[40, 10, 50, 20, 30]"
      ]
     },
     "execution_count": 40,
     "metadata": {},
     "output_type": "execute_result"
    }
   ],
   "source": [
    "list(a)"
   ]
  },
  {
   "cell_type": "code",
   "execution_count": 54,
   "metadata": {},
   "outputs": [
    {
     "name": "stdout",
     "output_type": "stream",
     "text": [
      "10\n"
     ]
    }
   ],
   "source": [
    "events = [10,20,30,40,50]\n",
    "s = list(set(events))\n",
    "c = [events.count(s[i]) for i in range(len(s))]\n",
    "n = []\n",
    "for i in range(len(c)):\n",
    "    if c[i] == max(c):\n",
    "        n.append(s[i])\n",
    "events.reverse()\n",
    "l = []\n",
    "for i in range(len(n)):\n",
    "    l.append(events.index(n[i]))\n",
    "print(n[l.index(max(l))])"
   ]
  },
  {
   "cell_type": "code",
   "execution_count": 83,
   "metadata": {},
   "outputs": [],
   "source": [
    "x = 3\n",
    "y = 10"
   ]
  },
  {
   "cell_type": "code",
   "execution_count": 84,
   "metadata": {},
   "outputs": [
    {
     "name": "stdout",
     "output_type": "stream",
     "text": [
      "2\n",
      "0 0\n"
     ]
    }
   ],
   "source": [
    "k = 0\n",
    "while 1:\n",
    "    if max(x,y) >= 3**k:\n",
    "        k += 1\n",
    "    else:\n",
    "        k -= 1\n",
    "        break\n",
    "print(k)\n",
    "for i in range(k+1):\n",
    "    if x - 3**(k-i) >= 0:\n",
    "        x -= 3**(k-i)\n",
    "    else:\n",
    "        y -= 3**(k-i)\n",
    "print(x,y)"
   ]
  },
  {
   "cell_type": "code",
   "execution_count": 107,
   "metadata": {},
   "outputs": [],
   "source": [
    "points = [1,2,3,4,5,6]\n",
    "tokensNeeded = 3\n",
    "bonuses = [4,4,4,4,500,4]"
   ]
  },
  {
   "cell_type": "code",
   "execution_count": 96,
   "metadata": {},
   "outputs": [
    {
     "data": {
      "text/plain": [
       "29"
      ]
     },
     "execution_count": 96,
     "metadata": {},
     "output_type": "execute_result"
    }
   ],
   "source": [
    "sum(points) + sum([bonuses[tokensNeeded*i-1] for i in range(len(bonuses)//tokensNeeded)])"
   ]
  },
  {
   "cell_type": "code",
   "execution_count": 109,
   "metadata": {},
   "outputs": [
    {
     "name": "stdout",
     "output_type": "stream",
     "text": [
      "1\n"
     ]
    }
   ],
   "source": [
    "p = [i for i in points[0:tokensNeeded+1]]\n",
    "a = min(p)\n",
    "p.remove(a)\n",
    "if bonuses[tokensNeeded+1] - bonuses[tokensNeeded] - min(p[0:tokensNeeded+1])*2 - a*2 > 0:\n",
    "    print(1)"
   ]
  },
  {
   "cell_type": "code",
   "execution_count": 246,
   "metadata": {},
   "outputs": [],
   "source": [
    "def big(w):\n",
    "    return max(int(w[0][1]),int(w[1][0])) + int(w[1][1])"
   ]
  },
  {
   "cell_type": "code",
   "execution_count": 273,
   "metadata": {},
   "outputs": [],
   "source": [
    "map = ['1 1 1','2 2 2','3 3 3']\n",
    "for i in range(len(map)):\n",
    "    map[i] = map[i].split()"
   ]
  },
  {
   "cell_type": "code",
   "execution_count": 274,
   "metadata": {},
   "outputs": [
    {
     "name": "stdout",
     "output_type": "stream",
     "text": [
      "1 1\n",
      "[['1', '1'], ['2', 4]]\n",
      "1 2\n",
      "[['1', '1'], [4, 6]]\n",
      "2 1\n",
      "[['2', 4], ['3', 7]]\n",
      "2 2\n",
      "[[4, 6], [7, 10]]\n",
      "11\n"
     ]
    }
   ],
   "source": [
    "for k in range(2,len(map)*2+1):\n",
    "    for i in range(1,k):\n",
    "        if i < 0 or k-i < 0:\n",
    "            continue\n",
    "        try:\n",
    "            map[i][k-i] = big([map[i-1][k-i-1:k-i+1],map[i][k-i-1:k-i+1]])\n",
    "            print(i,k-i)\n",
    "            print([map[i-1][k-i-1:k-i+1],map[i][k-i-1:k-i+1]])\n",
    "        except:\n",
    "            continue\n",
    "print(map[len(map)-1][len(map)-1]+1)"
   ]
  },
  {
   "cell_type": "code",
   "execution_count": 249,
   "metadata": {},
   "outputs": [
    {
     "data": {
      "text/plain": [
       "[['1', '1', '1'], ['2', 4, 6], ['3', 7, '3']]"
      ]
     },
     "execution_count": 249,
     "metadata": {},
     "output_type": "execute_result"
    }
   ],
   "source": [
    "map"
   ]
  },
  {
   "cell_type": "code",
   "execution_count": 267,
   "metadata": {},
   "outputs": [
    {
     "name": "stdout",
     "output_type": "stream",
     "text": [
      "1 1\n",
      "1 2\n",
      "2 1\n",
      "1 3\n",
      "2 2\n",
      "3 1\n",
      "1 4\n",
      "2 3\n",
      "3 2\n",
      "4 1\n",
      "1 5\n",
      "2 4\n",
      "3 3\n",
      "4 2\n",
      "5 1\n"
     ]
    }
   ],
   "source": [
    "for k in range(2,7):\n",
    "    for i in range(1,k):\n",
    "        if i < 0 or k-i < 0:\n",
    "            continue\n",
    "        print(i,k-i)"
   ]
  },
  {
   "cell_type": "code",
   "execution_count": 288,
   "metadata": {},
   "outputs": [
    {
     "name": "stdout",
     "output_type": "stream",
     "text": [
      "1 1\n",
      "[['1', '1'], ['1', 2]]\n",
      "1 2\n",
      "[['1', '1'], [2, 3]]\n",
      "2 1\n",
      "[['1', 2], ['1', 3]]\n",
      "2 2\n",
      "[[2, 3], [3, 4]]\n",
      "5\n"
     ]
    }
   ],
   "source": [
    "map = ['1 1 1','1 1 1','1 1 1']\n",
    "def big(w):\n",
    "    return max(int(w[0][1]),int(w[1][0])) + int(w[1][1])\n",
    "for i in range(len(map)):\n",
    "    map[i] = map[i].split()\n",
    "for k in range(2,len(map)*2+1):\n",
    "    for i in range(1,k):\n",
    "        try:\n",
    "            map[i][k-i] = big([map[i-1][k-i-1:k-i+1],map[i][k-i-1:k-i+1]])\n",
    "            print(i,k-i)\n",
    "            print([map[i-1][k-i-1:k-i+1],map[i][k-i-1:k-i+1]])\n",
    "        except:\n",
    "            continue\n",
    "print(map[len(map)-1][len(map)-1]+int(map[0][0]))"
   ]
  },
  {
   "cell_type": "code",
   "execution_count": 313,
   "metadata": {},
   "outputs": [],
   "source": [
    "w = [10,20,30]\n",
    "v = [60,100,120]\n",
    "K = 50"
   ]
  },
  {
   "cell_type": "code",
   "execution_count": 320,
   "metadata": {},
   "outputs": [
    {
     "name": "stdout",
     "output_type": "stream",
     "text": [
      "160\n"
     ]
    }
   ],
   "source": [
    "sum_w = 0\n",
    "sum_v = 0\n",
    "max_v = 0\n",
    "for i in range(len(w)):\n",
    "    sum_w += w[i]\n",
    "    sum_v += v[i]\n",
    "    if sum_w == K:\n",
    "        max_v = max(max_v,sum_v)\n",
    "        break\n",
    "    elif sum_w > K:\n",
    "        sum_v -= v[i]\n",
    "        sum_w -= w[i]\n",
    "        max_v = sum_v\n",
    "        continue\n",
    "    else:\n",
    "        continue\n",
    "print(max_v)"
   ]
  },
  {
   "cell_type": "code",
   "execution_count": 321,
   "metadata": {},
   "outputs": [
    {
     "data": {
      "text/plain": [
       "160"
      ]
     },
     "execution_count": 321,
     "metadata": {},
     "output_type": "execute_result"
    }
   ],
   "source": [
    "sum_v"
   ]
  },
  {
   "cell_type": "code",
   "execution_count": 1,
   "metadata": {},
   "outputs": [],
   "source": [
    "swaps = [\"3-1\",\"2-3\",\"3-1\",\"3-2\"]"
   ]
  },
  {
   "cell_type": "code",
   "execution_count": 2,
   "metadata": {},
   "outputs": [],
   "source": [
    "b = '1'\n",
    "for i in range(len(swaps)):\n",
    "    if swaps[i][0] == b or swaps[i][2] == b:\n",
    "        if swaps[i][0] == b:\n",
    "            b = swaps[i][2]\n",
    "        else:\n",
    "            b = swaps[i][0]"
   ]
  },
  {
   "cell_type": "code",
   "execution_count": 3,
   "metadata": {},
   "outputs": [
    {
     "data": {
      "text/plain": [
       "'3'"
      ]
     },
     "execution_count": 3,
     "metadata": {},
     "output_type": "execute_result"
    }
   ],
   "source": [
    "b"
   ]
  },
  {
   "cell_type": "code",
   "execution_count": 4,
   "metadata": {},
   "outputs": [
    {
     "data": {
      "text/plain": [
       "1"
      ]
     },
     "execution_count": 4,
     "metadata": {},
     "output_type": "execute_result"
    }
   ],
   "source": [
    "1^0"
   ]
  },
  {
   "cell_type": "code",
   "execution_count": 12,
   "metadata": {},
   "outputs": [],
   "source": [
    "masks = [\"010\",\"011\",\"000\"]"
   ]
  },
  {
   "cell_type": "code",
   "execution_count": 16,
   "metadata": {},
   "outputs": [
    {
     "name": "stdout",
     "output_type": "stream",
     "text": [
      "No\n"
     ]
    }
   ],
   "source": [
    "zero = [0] * len(masks[0])\n",
    "one = [0] * len(masks[0])\n",
    "for i in range(len(masks)):\n",
    "    for j in range(len(masks[0])):\n",
    "        if masks[i][j] == '0':\n",
    "            zero[j] += 1\n",
    "        else:\n",
    "            one[j] += 1\n",
    "for i in range(len(masks[0])):\n",
    "    if zero[i] >= 1:\n",
    "        zero[i] = 1\n",
    "    else:\n",
    "        zero[i] = 0\n",
    "    if one[i] >= 2:\n",
    "        one[i] = 1\n",
    "    else:\n",
    "        one[i] = 0\n",
    "if sum(zero) + sum(one) == len(masks[0])*2:\n",
    "    print('YES')\n",
    "else:\n",
    "    print('No')"
   ]
  },
  {
   "cell_type": "code",
   "execution_count": 74,
   "metadata": {},
   "outputs": [
    {
     "name": "stdout",
     "output_type": "stream",
     "text": [
      "0.32279528311598327\n"
     ]
    }
   ],
   "source": [
    "aGloal = 12\n",
    "bGloal = 89\n",
    "aGloal = 0.01*aGloal\n",
    "bGloal = 0.01*bGloal\n",
    "nososu = [0,1,4,6,8,9,10,12,14,15,16,18]\n",
    "per = [0,0]\n",
    "\n",
    "def factorial(n):\n",
    "    k = 1\n",
    "    for i in range(2,n+1):\n",
    "        k = k*i\n",
    "    return k\n",
    "\n",
    "def comb(n):\n",
    "    return factorial(18)/factorial(18-n)/factorial(n)\n",
    "\n",
    "for i in range(len(nososu)):\n",
    "    per[0] += aGloal ** nososu[i] * (1 - aGloal) ** (18 - nososu[i]) * comb(nososu[i])\n",
    "    per[1] += bGloal ** nososu[i] * (1 - bGloal) ** (18 - nososu[i]) * comb(nososu[i])\n",
    "    \n",
    "print(per[0]*per[1])"
   ]
  },
  {
   "cell_type": "code",
   "execution_count": 63,
   "metadata": {},
   "outputs": [
    {
     "data": {
      "text/plain": [
       "3.5402465821284244e-06"
      ]
     },
     "execution_count": 63,
     "metadata": {},
     "output_type": "execute_result"
    }
   ],
   "source": [
    "0.89**13 * 0.11**5 * comb(13)"
   ]
  },
  {
   "cell_type": "code",
   "execution_count": 64,
   "metadata": {},
   "outputs": [
    {
     "data": {
      "text/plain": [
       "3.814697265625e-06"
      ]
     },
     "execution_count": 64,
     "metadata": {},
     "output_type": "execute_result"
    }
   ],
   "source": [
    "0.5**18 * comb(9)"
   ]
  },
  {
   "cell_type": "code",
   "execution_count": 65,
   "metadata": {},
   "outputs": [
    {
     "data": {
      "text/plain": [
       "3.814697265625e-06"
      ]
     },
     "execution_count": 65,
     "metadata": {},
     "output_type": "execute_result"
    }
   ],
   "source": [
    "0.5**18"
   ]
  },
  {
   "cell_type": "code",
   "execution_count": 66,
   "metadata": {},
   "outputs": [
    {
     "data": {
      "text/plain": [
       "1.0"
      ]
     },
     "execution_count": 66,
     "metadata": {},
     "output_type": "execute_result"
    }
   ],
   "source": [
    "comb(9)"
   ]
  },
  {
   "cell_type": "code",
   "execution_count": 67,
   "metadata": {},
   "outputs": [
    {
     "data": {
      "text/plain": [
       "1.0"
      ]
     },
     "execution_count": 67,
     "metadata": {},
     "output_type": "execute_result"
    }
   ],
   "source": [
    "comb(1)"
   ]
  },
  {
   "cell_type": "code",
   "execution_count": 68,
   "metadata": {},
   "outputs": [
    {
     "data": {
      "text/plain": [
       "1.0"
      ]
     },
     "execution_count": 68,
     "metadata": {},
     "output_type": "execute_result"
    }
   ],
   "source": [
    "comb(2)"
   ]
  },
  {
   "cell_type": "code",
   "execution_count": 225,
   "metadata": {},
   "outputs": [],
   "source": [
    "rows = 3\n",
    "columns = 3\n",
    "counts = [1,2]"
   ]
  },
  {
   "cell_type": "code",
   "execution_count": 226,
   "metadata": {},
   "outputs": [
    {
     "name": "stdout",
     "output_type": "stream",
     "text": [
      "45.0 result\n"
     ]
    }
   ],
   "source": [
    "def factorial(n):\n",
    "    k = 1\n",
    "    for i in range(2,n+1):\n",
    "        k = k*i\n",
    "    return k\n",
    "\n",
    "def comb(n,k):\n",
    "    return factorial(n)/factorial(n-k)/factorial(k)\n",
    "\n",
    "def per(n,rows,columns):\n",
    "    if n == 1:\n",
    "        return comb(rows * columns, n)\n",
    "    if rows < 0 or columns < 0:\n",
    "        return 0\n",
    "    return per(n-1,rows-1,columns) + per(n-1,rows,columns-1) + per(n-1,rows-1,columns-1)\n",
    "\n",
    "result = 1\n",
    "\n",
    "for i in range(len(counts)):\n",
    "    result *= per(counts[i],rows,columns)\n",
    "    rows -= 1\n",
    "    columns -= 1\n",
    "print(result,'result')"
   ]
  },
  {
   "cell_type": "code",
   "execution_count": 5,
   "metadata": {},
   "outputs": [],
   "source": [
    "def factorial(n):\n",
    "    k = 1\n",
    "    for i in range(2,n+1):\n",
    "        k = k*i\n",
    "    return k\n",
    "\n",
    "def comb(n,k):\n",
    "    return int(factorial(n)/factorial(n-k)/factorial(k))\n",
    "\n",
    "def cases(rows, culumns, count):\n",
    "    if count"
   ]
  },
  {
   "cell_type": "code",
   "execution_count": 2,
   "metadata": {},
   "outputs": [
    {
     "data": {
      "text/plain": [
       "[4, 3, 1]"
      ]
     },
     "execution_count": 2,
     "metadata": {},
     "output_type": "execute_result"
    }
   ],
   "source": [
    "a = [1,3,4]\n",
    "a.sort()\n",
    "a.reverse()\n",
    "a"
   ]
  },
  {
   "cell_type": "code",
   "execution_count": 3,
   "metadata": {},
   "outputs": [
    {
     "name": "stdout",
     "output_type": "stream",
     "text": [
      "[0, 0]\n"
     ]
    }
   ],
   "source": [
    "T = 74\n",
    "requiredTime = [4747]\n",
    "t = 0\n",
    "s = 0\n",
    "b = 0\n",
    "r = requiredTime\n",
    "r.sort()\n",
    "for i in range(len(r)):\n",
    "    if r[i] + t <= T:\n",
    "        t += r[i]\n",
    "        s += 1\n",
    "        b += t\n",
    "    else:\n",
    "        break\n",
    "print([s,b])"
   ]
  },
  {
   "cell_type": "code",
   "execution_count": 39,
   "metadata": {},
   "outputs": [
    {
     "name": "stdout",
     "output_type": "stream",
     "text": [
      "5\n"
     ]
    }
   ],
   "source": [
    "N = 10\n",
    "s = [9,9,9,9,9]\n",
    "for i in range(N):\n",
    "    s.sort()\n",
    "    s.reverse()\n",
    "    for j in range(len(s)-1):\n",
    "        s[j] -= 1\n",
    "print(sum(s))"
   ]
  },
  {
   "cell_type": "code",
   "execution_count": 186,
   "metadata": {},
   "outputs": [],
   "source": [
    "def A(answers):\n",
    "    a = answers\n",
    "    a.sort()\n",
    "    if a[0] != 0:\n",
    "        return 0\n",
    "    p = 0\n",
    "    n = 0\n",
    "    for i in range(len(a)-1):\n",
    "        if a[i] == a[i+1]:\n",
    "            if p < n :\n",
    "                return 0\n",
    "            p += 1\n",
    "        elif a[i] == a[i+1]-1:\n",
    "            n += 1\n",
    "        else:\n",
    "            return 0\n",
    "        if p > n+1:\n",
    "            return 0\n",
    "    r = 2\n",
    "    for i in range(len(a)//2):\n",
    "        if a[i*2] == i and a[i*2+1] == i:\n",
    "            r *= 2\n",
    "        elif a[i*2] == i and a[i*2+1] == i+1:\n",
    "            return r\n",
    "        else:\n",
    "            return 0\n",
    "    if len(a) % 2 == 0:\n",
    "        r /= 2\n",
    "    return int(r)"
   ]
  },
  {
   "cell_type": "code",
   "execution_count": 190,
   "metadata": {},
   "outputs": [
    {
     "data": {
      "text/plain": [
       "0"
      ]
     },
     "execution_count": 190,
     "metadata": {},
     "output_type": "execute_result"
    }
   ],
   "source": [
    "A([0,1,1])"
   ]
  },
  {
   "cell_type": "markdown",
   "metadata": {},
   "source": [
    "# L자"
   ]
  },
  {
   "cell_type": "code",
   "execution_count": 247,
   "metadata": {},
   "outputs": [],
   "source": [
    "board = ['....','....','....']"
   ]
  },
  {
   "cell_type": "code",
   "execution_count": 248,
   "metadata": {},
   "outputs": [
    {
     "name": "stdout",
     "output_type": "stream",
     "text": [
      "0 0 1\n",
      "0 1 2\n",
      "1 2 2\n",
      "3\n"
     ]
    }
   ],
   "source": [
    "for i in range(len(board)):\n",
    "    board[i] = list(board[i])\n",
    "n = 0\n",
    "for i in range(len(board)-1):\n",
    "    for j in range(len(board[0])):\n",
    "        if board[i][j] == '.':\n",
    "            try:\n",
    "                if board[i][j-1] == '.' and board[i+1][j-1] == '.':\n",
    "                    board[i][j] = 'X'\n",
    "                    board[i][j-1] = 'X'\n",
    "                    board[i+1][j-1] = 'X'\n",
    "                    n += 1\n",
    "                    print(i,j,1)\n",
    "                    continue\n",
    "            except:\n",
    "                pass\n",
    "            try:\n",
    "                if board[i+1][j] == '.' and board[i+1][j-1] == '.':\n",
    "                    board[i][j] = 'X'\n",
    "                    board[i+1][j] = 'X'\n",
    "                    board[i+1][j-1] = 'X'\n",
    "                    n += 1\n",
    "                    print(i,j,2)\n",
    "                    continue\n",
    "            except:\n",
    "                pass\n",
    "            try:\n",
    "                if board[i][j+1] == '.' and board[i+1][j+1] == '.':\n",
    "                    board[i][j] = 'X'\n",
    "                    board[i][j+1] = 'X'\n",
    "                    board[i+1][j+1] = 'X'\n",
    "                    n += 1\n",
    "                    print(i,j,3)\n",
    "                    continue\n",
    "            except:\n",
    "                pass\n",
    "            try:\n",
    "                if board[i+1][j] == '.' and board[i+1][j+1] == '.':\n",
    "                    board[i][j] = 'X'\n",
    "                    board[i+1][j] = 'X'\n",
    "                    board[i+1][j+1] = 'X'\n",
    "                    n += 1\n",
    "                    print(i,j,4)\n",
    "                    continue\n",
    "            except:\n",
    "                pass\n",
    "print(n)"
   ]
  },
  {
   "cell_type": "code",
   "execution_count": 249,
   "metadata": {},
   "outputs": [
    {
     "data": {
      "text/plain": [
       "[['X', 'X', '.', 'X'], ['X', 'X', 'X', 'X'], ['.', 'X', 'X', '.']]"
      ]
     },
     "execution_count": 249,
     "metadata": {},
     "output_type": "execute_result"
    }
   ],
   "source": [
    "board"
   ]
  },
  {
   "cell_type": "markdown",
   "metadata": {},
   "source": [
    "# 원형 배치"
   ]
  },
  {
   "cell_type": "code",
   "execution_count": 12,
   "metadata": {},
   "outputs": [],
   "source": [
    "a = 'abc'\n",
    "b = list(a)\n",
    "c = str(b)"
   ]
  },
  {
   "cell_type": "code",
   "execution_count": 13,
   "metadata": {},
   "outputs": [
    {
     "data": {
      "text/plain": [
       "\"['a', 'b', 'c']\""
      ]
     },
     "execution_count": 13,
     "metadata": {},
     "output_type": "execute_result"
    }
   ],
   "source": [
    "c"
   ]
  },
  {
   "cell_type": "code",
   "execution_count": 128,
   "metadata": {},
   "outputs": [
    {
     "name": "stdout",
     "output_type": "stream",
     "text": [
      "['M', 'M', 'F', 'M', 'M', 'M']\n",
      "['F', 'M', 'M', 'F', 'M', 'M', 'M']\n",
      "['F', 'M', 'M', 'F', 'M', 'F', 'M', 'M']\n",
      "['F', 'M', 'M', 'F', 'F', 'M', 'F', 'M', 'M']\n",
      "['F', 'M', 'M', 'F', 'F', 'F', 'M', 'F', 'M', 'M']\n",
      "FMMFFFMFMM\n"
     ]
    }
   ],
   "source": [
    "n1 = 5\n",
    "n2 = 5\n",
    "K = 4\n",
    "s = ['M'] * n1\n",
    "\n",
    "for i in range(n2):\n",
    "    s.insert((n2-i-2+K-n)%len(s), 'F')\n",
    "    if K % len(s) == 1:\n",
    "        n += 1\n",
    "    print(s)\n",
    "        \n",
    "r = ''\n",
    "for i in range(n1+n2):\n",
    "    r += s[i]\n",
    "print(r)"
   ]
  },
  {
   "cell_type": "code",
   "execution_count": 51,
   "metadata": {},
   "outputs": [
    {
     "name": "stdout",
     "output_type": "stream",
     "text": [
      "['F', 'F', 'F', 'F', 'F', 'F', 'F', 'F', 'F', 'F', 'F', 'F', 'F', 'F', 'F', 'F', 'M', 'F', 'F', 'F', 'F', 'F', 'F', 'F', 'F', 'F']\n",
      "총 26개 중에서 1부터 1칸 이동해서 2 삭제\n",
      "['F', 'F', 'F', 'F', 'F', 'F', 'F', 'F', 'F', 'F', 'F', 'F', 'F', 'F', 'F', 'M', 'F', 'F', 'F', 'F', 'F', 'F', 'F', 'F', 'F']\n",
      "총 25개 중에서 2부터 1칸 이동해서 3 삭제\n",
      "['F', 'F', 'F', 'F', 'F', 'F', 'F', 'F', 'F', 'F', 'F', 'F', 'F', 'F', 'M', 'F', 'F', 'F', 'F', 'F', 'F', 'F', 'F', 'F']\n",
      "총 24개 중에서 3부터 1칸 이동해서 4 삭제\n",
      "['F', 'F', 'F', 'F', 'F', 'F', 'F', 'F', 'F', 'F', 'F', 'F', 'F', 'M', 'F', 'F', 'F', 'F', 'F', 'F', 'F', 'F', 'F']\n",
      "총 23개 중에서 4부터 1칸 이동해서 5 삭제\n",
      "['F', 'F', 'F', 'F', 'F', 'F', 'F', 'F', 'F', 'F', 'F', 'F', 'M', 'F', 'F', 'F', 'F', 'F', 'F', 'F', 'F', 'F']\n",
      "총 22개 중에서 5부터 1칸 이동해서 6 삭제\n",
      "['F', 'F', 'F', 'F', 'F', 'F', 'F', 'F', 'F', 'F', 'F', 'M', 'F', 'F', 'F', 'F', 'F', 'F', 'F', 'F', 'F']\n",
      "총 21개 중에서 6부터 1칸 이동해서 7 삭제\n",
      "['F', 'F', 'F', 'F', 'F', 'F', 'F', 'F', 'F', 'F', 'M', 'F', 'F', 'F', 'F', 'F', 'F', 'F', 'F', 'F']\n",
      "총 20개 중에서 7부터 1칸 이동해서 8 삭제\n",
      "['F', 'F', 'F', 'F', 'F', 'F', 'F', 'F', 'F', 'M', 'F', 'F', 'F', 'F', 'F', 'F', 'F', 'F', 'F']\n",
      "총 19개 중에서 8부터 1칸 이동해서 9 삭제\n",
      "['F', 'F', 'F', 'F', 'F', 'F', 'F', 'F', 'M', 'F', 'F', 'F', 'F', 'F', 'F', 'F', 'F', 'F']\n",
      "총 18개 중에서 9부터 1칸 이동해서 10 삭제\n",
      "['F', 'F', 'F', 'F', 'F', 'F', 'F', 'F', 'M', 'F', 'F', 'F', 'F', 'F', 'F', 'F', 'F']\n",
      "총 17개 중에서 10부터 1칸 이동해서 11 삭제\n",
      "['F', 'F', 'F', 'F', 'F', 'F', 'F', 'F', 'M', 'F', 'F', 'F', 'F', 'F', 'F', 'F']\n",
      "총 16개 중에서 11부터 1칸 이동해서 12 삭제\n",
      "['F', 'F', 'F', 'F', 'F', 'F', 'F', 'F', 'M', 'F', 'F', 'F', 'F', 'F', 'F']\n",
      "총 15개 중에서 12부터 1칸 이동해서 13 삭제\n",
      "['F', 'F', 'F', 'F', 'F', 'F', 'F', 'F', 'M', 'F', 'F', 'F', 'F', 'F']\n",
      "총 14개 중에서 13부터 1칸 이동해서 14 삭제\n",
      "['F', 'F', 'F', 'F', 'F', 'F', 'F', 'F', 'M', 'F', 'F', 'F', 'F']\n",
      "총 13개 중에서 14부터 1칸 이동해서 2 삭제\n",
      "['F', 'F', 'F', 'F', 'F', 'F', 'F', 'M', 'F', 'F', 'F', 'F']\n",
      "총 12개 중에서 15부터 1칸 이동해서 4 삭제\n",
      "['F', 'F', 'F', 'F', 'F', 'F', 'M', 'F', 'F', 'F', 'F']\n",
      "총 11개 중에서 16부터 1칸 이동해서 6 삭제\n",
      "['F', 'F', 'F', 'F', 'F', 'M', 'F', 'F', 'F', 'F']\n",
      "총 10개 중에서 17부터 1칸 이동해서 8 삭제\n",
      "['F', 'F', 'F', 'F', 'F', 'M', 'F', 'F', 'F']\n",
      "총 9개 중에서 18부터 1칸 이동해서 1 삭제\n",
      "['F', 'F', 'F', 'F', 'M', 'F', 'F', 'F']\n",
      "총 8개 중에서 18부터 1칸 이동해서 3 삭제\n",
      "['F', 'F', 'F', 'M', 'F', 'F', 'F']\n",
      "총 7개 중에서 19부터 1칸 이동해서 6 삭제\n",
      "['F', 'F', 'F', 'M', 'F', 'F']\n",
      "총 6개 중에서 20부터 1칸 이동해서 3 삭제\n",
      "['F', 'F', 'M', 'F', 'F']\n",
      "총 5개 중에서 21부터 1칸 이동해서 2 삭제\n",
      "['F', 'M', 'F', 'F']\n",
      "총 4개 중에서 22부터 1칸 이동해서 3 삭제\n",
      "['F', 'M', 'F']\n",
      "총 3개 중에서 23부터 1칸 이동해서 3 삭제\n",
      "['F', 'M']\n",
      "총 2개 중에서 24부터 1칸 이동해서 1 삭제\n",
      "M\n"
     ]
    }
   ],
   "source": [
    "n1 = 1\n",
    "n2 = 25\n",
    "K = 2\n",
    "r = \"FFFFFFFFFFFFFFFFMFFFFFFFFF\"\n",
    "s = list(r)\n",
    "n = 0\n",
    "\n",
    "for i in range(n2):\n",
    "    print(s)\n",
    "    s[(i+K-1-n)%len(s)] = ''\n",
    "    print('총 {}개 중에서 {}부터 {}칸 이동해서 {} 삭제'.format(len(s), i+1-n, K-1, (i+K-1-n)%len(s)+1))\n",
    "    if (i+K-1-n)%len(s) == 0:\n",
    "        n += 1\n",
    "    s.remove('')\n",
    "    \n",
    "R = ''\n",
    "for i in range(n1):\n",
    "    R += s[i]\n",
    "\n",
    "print(R)"
   ]
  },
  {
   "cell_type": "code",
   "execution_count": 50,
   "metadata": {},
   "outputs": [
    {
     "name": "stdout",
     "output_type": "stream",
     "text": [
      "FFMFFFFFFFF\n"
     ]
    }
   ],
   "source": [
    "n1 = 1\n",
    "n2 = 10\n",
    "K = 2\n",
    "def finder(n1,n2,K,r):\n",
    "    s = list(r)\n",
    "    n = 0\n",
    "        \n",
    "    for i in range(n2):\n",
    "        s[(i+K-1-n)%len(s)] = ''\n",
    "        if (i+K-1-n)%len(s) == 0:\n",
    "            n += 1\n",
    "        s.remove('')\n",
    "        \n",
    "    R = ''\n",
    "    for i in range(n1):\n",
    "        R += s[i]\n",
    "    return R\n",
    "            \n",
    "R = ''\n",
    "for i in range(n1+n2):\n",
    "    r = 'M'*i + 'F' + 'M'*(n1+n2-1-i)\n",
    "    if 'F' in finder(n1,n2,K,r):\n",
    "        R += 'M'\n",
    "    else:\n",
    "        R += 'F'\n",
    "print(R)"
   ]
  },
  {
   "cell_type": "markdown",
   "metadata": {},
   "source": [
    "# 온코더 11회"
   ]
  },
  {
   "cell_type": "code",
   "execution_count": 119,
   "metadata": {},
   "outputs": [
    {
     "name": "stdout",
     "output_type": "stream",
     "text": [
      "4100.0\n"
     ]
    }
   ],
   "source": [
    "cv = [10, 10, 30, 40]\n",
    "dw = [100, 200, 900, 5000]\n",
    "a = [0] * len(dw)\n",
    "\n",
    "d = [j/i for i,j in zip(cv,dw)]\n",
    "for k in range(len(d)):\n",
    "    a[k] = sum([abs(cv[i]*d[k]-dw[i]) for i in range(len(cv))])\n",
    "print(min(a))"
   ]
  },
  {
   "cell_type": "code",
   "execution_count": 120,
   "metadata": {},
   "outputs": [
    {
     "data": {
      "text/plain": [
       "[200, 100, 0, 3800]"
      ]
     },
     "execution_count": 120,
     "metadata": {},
     "output_type": "execute_result"
    }
   ],
   "source": [
    "cv = [10, 10, 30, 40]\n",
    "dw = [100, 200, 900, 5000]\n",
    "\n",
    "m = 30\n",
    "\n",
    "[abs(cv[i]*m-dw[i]) for i in range(len(cv))]"
   ]
  },
  {
   "cell_type": "code",
   "execution_count": 109,
   "metadata": {},
   "outputs": [
    {
     "name": "stdout",
     "output_type": "stream",
     "text": [
      "7.0\n"
     ]
    }
   ],
   "source": [
    "sides = [3,2,2]\n",
    "\n",
    "def MC(a):\n",
    "    if len(a) <= 1:\n",
    "        return sum(a)\n",
    "    elif len(a) == 2:\n",
    "        return a[0]*(a[0]+1)/2 - (a[0]-a[1])*(a[0]-a[1]+1)/2\n",
    "    else:\n",
    "        while 1:\n",
    "            try:\n",
    "                a.remove(0)\n",
    "            except:\n",
    "                break\n",
    "        r = 0\n",
    "        for i in range(a[-1]):\n",
    "            r += MC(list(map(lambda a:a-i, a[0:-1])))\n",
    "        return r\n",
    "\n",
    "sides.sort()\n",
    "sides.reverse()\n",
    "\n",
    "print(MC(sides))"
   ]
  },
  {
   "cell_type": "code",
   "execution_count": 53,
   "metadata": {},
   "outputs": [
    {
     "data": {
      "text/plain": [
       "3"
      ]
     },
     "execution_count": 53,
     "metadata": {},
     "output_type": "execute_result"
    }
   ],
   "source": [
    "a = [1,2,3,4]\n",
    "r = 0\n",
    "for i in range(a[-1]):\n",
    "    r += a[0:-1]"
   ]
  },
  {
   "cell_type": "code",
   "execution_count": 56,
   "metadata": {},
   "outputs": [
    {
     "data": {
      "text/plain": [
       "[1, 2, 3]"
      ]
     },
     "execution_count": 56,
     "metadata": {},
     "output_type": "execute_result"
    }
   ],
   "source": [
    "a = [1,2,3,4]\n",
    "a[0:-1]"
   ]
  },
  {
   "cell_type": "code",
   "execution_count": 74,
   "metadata": {},
   "outputs": [
    {
     "data": {
      "text/plain": [
       "[0, 1, 2, 3]"
      ]
     },
     "execution_count": 74,
     "metadata": {},
     "output_type": "execute_result"
    }
   ],
   "source": [
    "a = [1,2,3,4]\n",
    "list(map(lambda a:a-1, a))"
   ]
  },
  {
   "cell_type": "code",
   "execution_count": 62,
   "metadata": {},
   "outputs": [
    {
     "data": {
      "text/plain": [
       "<map at 0x22553bffb70>"
      ]
     },
     "execution_count": 62,
     "metadata": {},
     "output_type": "execute_result"
    }
   ],
   "source": [
    "b"
   ]
  },
  {
   "cell_type": "code",
   "execution_count": 43,
   "metadata": {},
   "outputs": [
    {
     "name": "stdout",
     "output_type": "stream",
     "text": [
      "2\n"
     ]
    }
   ],
   "source": [
    "n = 3\n",
    "v = [0,1,1,2,2]\n",
    "ex = [1,0,2,0,1]\n",
    "\n",
    "c_v = []\n",
    "for i in range(n):\n",
    "    c_v.append(v.count(i))\n",
    "    \n",
    "d_v = [i for i in c_v]\n",
    "d_v.sort()\n",
    "    \n",
    "c_ex = []\n",
    "for i in range(n):\n",
    "    c_ex.append(ex.count(i))\n",
    "    \n",
    "d_ex = [i for i in c_ex]\n",
    "d_ex.sort()\n",
    "\n",
    "if d_ex[-1] == 0:\n",
    "    print(0)\n",
    "elif d_ex[-1] == d_ex[-2]:\n",
    "    if d_v[-1] == d_v[-2]:\n",
    "        print(0)\n",
    "    else:\n",
    "        print(c_v.index(max(c_v)))\n",
    "else:\n",
    "    print(c_ex.index(max(c_ex)))"
   ]
  },
  {
   "cell_type": "code",
   "execution_count": 35,
   "metadata": {},
   "outputs": [],
   "source": [
    "def m_count(l,n):\n",
    "    L = []\n",
    "    for i in n:\n",
    "        L.append(l.count(i))\n",
    "    return [n[i] for i in range(len(L)) if L[i] == max(L)]"
   ]
  },
  {
   "cell_type": "code",
   "execution_count": 36,
   "metadata": {},
   "outputs": [
    {
     "name": "stdout",
     "output_type": "stream",
     "text": [
      "1\n",
      "1\n"
     ]
    }
   ],
   "source": [
    "n = 3\n",
    "v = [0,1,2]\n",
    "ex = [1,0,1]\n",
    "\n",
    "m_ex = m_count(ex, list(range(n)))\n",
    "if len(m_ex) == 1:\n",
    "    print(m_ex[0])\n",
    "\n",
    "m_v = m_count(v, m_ex)\n",
    "if len(m_v) == 1:\n",
    "    print(m_v[0])\n",
    "else:\n",
    "    print(min(m_v))"
   ]
  },
  {
   "cell_type": "code",
   "execution_count": 75,
   "metadata": {},
   "outputs": [],
   "source": [
    "len = [200,200,200,400]\n",
    "cost = 1000\n",
    "wv = 1\n",
    "\n",
    "def cal(len, cost, wv, length):\n",
    "    wood = 0\n",
    "    cut = 0\n",
    "    for i in len:\n",
    "        wood += i//length\n",
    "        if i%length == 0:\n",
    "            pass\n",
    "        else:\n",
    "            cut += i//length\n",
    "    return wood * length * wv - cut * cost"
   ]
  },
  {
   "cell_type": "code",
   "execution_count": 76,
   "metadata": {},
   "outputs": [
    {
     "data": {
      "text/plain": [
       "1000"
      ]
     },
     "execution_count": 76,
     "metadata": {},
     "output_type": "execute_result"
    }
   ],
   "source": [
    "cases = []\n",
    "for i in range(1, max(len)+1):\n",
    "    cases.append(cal(len, cost, wv, i))\n",
    "max(cases)"
   ]
  },
  {
   "cell_type": "code",
   "execution_count": 40,
   "metadata": {},
   "outputs": [
    {
     "name": "stdout",
     "output_type": "stream",
     "text": [
      "1.5\n"
     ]
    }
   ],
   "source": [
    "K = 1\n",
    "rows = 2\n",
    "cols = 1\n",
    "\n",
    "s = 0\n",
    "s += sum([i*j for i in range(1,rows+1) for j in range(1,cols+1)])\n",
    "print(s/rows/cols)"
   ]
  },
  {
   "cell_type": "code",
   "execution_count": 42,
   "metadata": {},
   "outputs": [
    {
     "name": "stdout",
     "output_type": "stream",
     "text": [
      "1.5\n"
     ]
    }
   ],
   "source": [
    "K = 1\n",
    "rows = 2\n",
    "cols = 1\n",
    "\n",
    "s = 0\n",
    "for i in range(1,rows+1):\n",
    "    for j in range(1,cols+1):\n",
    "        for k in range(K):\n",
    "            s += i*j\n",
    "print(s/rows/cols)"
   ]
  },
  {
   "cell_type": "code",
   "execution_count": null,
   "metadata": {},
   "outputs": [],
   "source": [
    "1 2 3 4 6 9\n",
    "9 24 12 16 16 4"
   ]
  },
  {
   "cell_type": "markdown",
   "metadata": {},
   "source": [
    "# 온코더 14회"
   ]
  },
  {
   "cell_type": "code",
   "execution_count": 40,
   "metadata": {},
   "outputs": [],
   "source": [
    "numPlayers = 2\n",
    "deck = \"\"\n",
    "c = [''] * numPlayers\n",
    "l = len(deck)//numPlayers\n",
    "for i in range(l):\n",
    "    for j in range(numPlayers):\n",
    "        c[j] += deck[i*numPlayers+j]\n",
    "print(c)"
   ]
  },
  {
   "cell_type": "code",
   "execution_count": 17,
   "metadata": {},
   "outputs": [
    {
     "name": "stdout",
     "output_type": "stream",
     "text": [
      "0\n"
     ]
    }
   ],
   "source": [
    "import math\n",
    "\n",
    "low = 889\n",
    "high = 900\n",
    "diff = high - low\n",
    "\n",
    "if diff == 0:\n",
    "    print(str(low).count('8'))\n",
    "else:\n",
    "    l = len(str(10 ** math.floor(math.log10(diff))))\n",
    "    r = 0\n",
    "    for i in range(min(len(str(low))-1-l, len(str(low))-1), -1, -1):\n",
    "        if str(low)[i] == '8':\n",
    "            if str(low)[i] != str(high)[i]:\n",
    "                continue\n",
    "            r += 1\n",
    "    print(r)"
   ]
  },
  {
   "cell_type": "code",
   "execution_count": 25,
   "metadata": {},
   "outputs": [
    {
     "name": "stdout",
     "output_type": "stream",
     "text": [
      "['R', 'W', 'W', 'W', 'W']\n",
      "B 8.0 1.0 [0, 1]\n",
      "B 1.0 5.0 [0, 1]\n",
      "B 1.0 6.0 [0, 1]\n",
      "B 1.0 8.0 [0, 1]\n",
      "['R', 'B', 'W', 'W', 'W']\n",
      "R None 4.0 [0, 5]\n",
      "R 4.0 5.0 [0, 5]\n",
      "R 5.0 7.0 [0, 6]\n",
      "['R', 'B', 'W', 'W', 'R']\n",
      "B None 8.0 [0, 5]\n",
      "B 8.0 8.0 [0, 5]\n",
      "['R', 'B', 'W', 'B', 'R']\n",
      "R None 5.0 [0, 5]\n",
      "['R', 'B', 'R', 'B', 'R']\n",
      "21.0\n"
     ]
    }
   ],
   "source": [
    "def dist(a,b):\n",
    "    d = 0\n",
    "    for i in range(len(a)):\n",
    "        d += (a[i] - b[i]) ** 2\n",
    "    return d ** (1/2)\n",
    "\n",
    "pointsX = [0,0,0,0,0]\n",
    "pointsY = [0,1,5,6,8]\n",
    "l = len(pointsX)\n",
    "points = [[pointsX[i], pointsY[i]] for i in range(l)]\n",
    "board = ['W'] * l\n",
    "\n",
    "fp = points[0]\n",
    "d = 0\n",
    "for i in range(l):\n",
    "    n_d = dist(fp, points[i])\n",
    "    if d < n_d:\n",
    "        d = n_d\n",
    "        fr = points[i]\n",
    "fp = fr\n",
    "for i in range(l):\n",
    "    n_d = dist(fp, points[i])\n",
    "    if d <= n_d:\n",
    "        d = n_d\n",
    "        fr = points[i]\n",
    "\n",
    "board[points.index(fr)] = 'R'\n",
    "print(board)\n",
    "color = 'B'\n",
    "bp = None\n",
    "rp = None\n",
    "\n",
    "for i in range(l-1):\n",
    "    if color == 'B':\n",
    "        for i in range(l):\n",
    "            if board[i] == 'W':\n",
    "                if not bp:\n",
    "                    bp = points[i]\n",
    "                n_d = sum([dist(points[i],points[r]) for r in range(l) if board[r] == 'R'])\n",
    "                print('B', d, n_d, bp)\n",
    "                if not d or d >= n_d:\n",
    "                    d = n_d\n",
    "                    bp = points[i]\n",
    "        board[points.index(bp)] = 'B'\n",
    "        bp = None\n",
    "        d = None\n",
    "        color = 'R'\n",
    "    elif color == 'R':\n",
    "        for i in range(l):\n",
    "            if board[i] == 'W':\n",
    "                if not rp:\n",
    "                    rp = points[i]\n",
    "                n_d = sum([dist(points[i],points[b]) for b in range(l) if board[b] == 'B'])\n",
    "                print('R', d, n_d, rp)\n",
    "                if not d or d <= n_d:\n",
    "                    d = n_d\n",
    "                    rp = points[i]\n",
    "        board[points.index(rp)] = 'R'\n",
    "        rp = None\n",
    "        d = None\n",
    "        color = 'B'\n",
    "r = 0\n",
    "rp = [points[i] for i in range(l) if board[i] == 'R']\n",
    "bp = [points[i] for i in range(l) if board[i] == 'B']\n",
    "for i in rp:\n",
    "    for j in bp:\n",
    "        r += dist(i,j)\n",
    "print(r)"
   ]
  },
  {
   "cell_type": "code",
   "execution_count": 19,
   "metadata": {},
   "outputs": [
    {
     "data": {
      "text/plain": [
       "[[0, 0], [0, 1], [0, 5], [0, 6], [0, 8]]"
      ]
     },
     "execution_count": 19,
     "metadata": {},
     "output_type": "execute_result"
    }
   ],
   "source": [
    "points"
   ]
  },
  {
   "cell_type": "code",
   "execution_count": 74,
   "metadata": {},
   "outputs": [
    {
     "data": {
      "text/plain": [
       "6.0"
      ]
     },
     "execution_count": 74,
     "metadata": {},
     "output_type": "execute_result"
    }
   ],
   "source": [
    "d"
   ]
  },
  {
   "cell_type": "code",
   "execution_count": null,
   "metadata": {},
   "outputs": [],
   "source": []
  }
 ],
 "metadata": {
  "kernelspec": {
   "display_name": "Python 3",
   "language": "python",
   "name": "python3"
  },
  "language_info": {
   "codemirror_mode": {
    "name": "ipython",
    "version": 3
   },
   "file_extension": ".py",
   "mimetype": "text/x-python",
   "name": "python",
   "nbconvert_exporter": "python",
   "pygments_lexer": "ipython3",
   "version": "3.7.0"
  }
 },
 "nbformat": 4,
 "nbformat_minor": 2
}
