{
 "cells": [
  {
   "cell_type": "code",
   "execution_count": 47,
   "metadata": {},
   "outputs": [
    {
     "name": "stdout",
     "output_type": "stream",
     "text": [
      "20 50\n",
      "25 110\n"
     ]
    }
   ],
   "source": [
    "import math\n",
    "M, N = map(int, input().split())\n",
    "print(math.ceil(M**0.5)**2, sum([i**2 for i in range(math.ceil(M**0.5),math.floor(N**0.5)+1)]))"
   ]
  },
  {
   "cell_type": "code",
   "execution_count": 38,
   "metadata": {},
   "outputs": [
    {
     "name": "stdout",
     "output_type": "stream",
     "text": [
      "8\n",
      "2 8 10 7 1 9 4 15\n",
      "1 1 1 3 5 2 5 1\n"
     ]
    }
   ],
   "source": [
    "n = int(input())\n",
    "order = list(map(int, input().split()))\n",
    "grade = []\n",
    "for i in range(n):\n",
    "    grade.append(1+sum([1 for j in range(i) if order[j]>order[i]]))\n",
    "print(' '.join(map(str, grade)))"
   ]
  },
  {
   "cell_type": "code",
   "execution_count": 39,
   "metadata": {},
   "outputs": [
    {
     "name": "stdout",
     "output_type": "stream",
     "text": [
      "5\n",
      "1 5 7 9 10\n",
      "9\n",
      "4\n"
     ]
    }
   ],
   "source": [
    "n = int(input())\n",
    "l = list(map(int, input().split()))\n",
    "try:\n",
    "    print(l.index(int(input()))+1)\n",
    "except:\n",
    "    print('X')"
   ]
  },
  {
   "cell_type": "code",
   "execution_count": null,
   "metadata": {},
   "outputs": [
    {
     "name": "stdout",
     "output_type": "stream",
     "text": [
      "5 5\n",
      "0 1 10\n",
      "1 2 20\n",
      "2 0 -30\n",
      "2 3 -10\n",
      "3 0 -20\n"
     ]
    }
   ],
   "source": [
    "n, m = map(int, input().split())\n",
    "S = []\n",
    "D = []\n",
    "T = []\n",
    "hope = []\n",
    "for i in range(m):\n",
    "    x, y, t = map(int, input().split())\n",
    "    S.append(x)\n",
    "    D.append(y)\n",
    "    T.append(t)\n",
    "    if t < 0:\n",
    "        hope.append(i)\n",
    "\n",
    "C = 0\n",
    "p = 0\n",
    "for h in hope:\n",
    "    s = S[h]\n",
    "    d = D[h]\n",
    "    t = 0\n",
    "    while s != d:\n",
    "        if d not in S:\n",
    "            C = 1\n",
    "            break\n",
    "        else:\n",
    "            C = 0\n",
    "        t += T[S.index(d)]\n",
    "        d = D[S.index(d)]\n",
    "    if t + T[h] < 0 and C != 1:\n",
    "        p = 1\n",
    "        break\n",
    "if p > 0:\n",
    "    print('O')\n",
    "else:\n",
    "    print('X')"
   ]
  },
  {
   "cell_type": "code",
   "execution_count": 12,
   "metadata": {},
   "outputs": [
    {
     "name": "stdout",
     "output_type": "stream",
     "text": [
      "4 4\n",
      "0 1 10\n",
      "1 2 20\n",
      "2 3 30\n",
      "3 0 -60\n"
     ]
    },
    {
     "data": {
      "text/plain": [
       "0"
      ]
     },
     "execution_count": 12,
     "metadata": {},
     "output_type": "execute_result"
    }
   ],
   "source": [
    "n, m = map(int, input().split())\n",
    "S = []\n",
    "D = []\n",
    "T = []\n",
    "hope = 0\n",
    "for i in range(m):\n",
    "    x, y, t = map(int, input().split())\n",
    "    S.append(x)\n",
    "    D.append(y)\n",
    "    T.append(t)\n",
    "    if t < 0:\n",
    "        hope = i\n",
    "        \n",
    "if sum(T[D[hope]:S[hope]+1]) < 0:\n",
    "    print('O')\n",
    "else:\n",
    "    print('X')"
   ]
  },
  {
   "cell_type": "code",
   "execution_count": 10,
   "metadata": {},
   "outputs": [
    {
     "data": {
      "text/plain": [
       "2"
      ]
     },
     "execution_count": 10,
     "metadata": {},
     "output_type": "execute_result"
    }
   ],
   "source": [
    "hope"
   ]
  }
 ],
 "metadata": {
  "kernelspec": {
   "display_name": "Python 3",
   "language": "python",
   "name": "python3"
  },
  "language_info": {
   "codemirror_mode": {
    "name": "ipython",
    "version": 3
   },
   "file_extension": ".py",
   "mimetype": "text/x-python",
   "name": "python",
   "nbconvert_exporter": "python",
   "pygments_lexer": "ipython3",
   "version": "3.7.0"
  }
 },
 "nbformat": 4,
 "nbformat_minor": 2
}
